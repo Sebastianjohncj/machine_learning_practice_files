{
 "cells": [
  {
   "cell_type": "code",
   "execution_count": 4,
   "metadata": {},
   "outputs": [],
   "source": [
    "import numpy as np\n",
    "import pandas as pd\n",
    "import matplotlib.pyplot as plt\n",
    "import seaborn as sns\n",
    "%matplotlib inline\n",
    "import statsmodels.api as sm\n"
   ]
  },
  {
   "cell_type": "code",
   "execution_count": 5,
   "metadata": {},
   "outputs": [],
   "source": [
    "saldat=pd.read_csv(\"Salary_Data.csv\")"
   ]
  },
  {
   "cell_type": "code",
   "execution_count": 9,
   "metadata": {},
   "outputs": [
    {
     "data": {
      "text/html": [
       "<div>\n",
       "<style scoped>\n",
       "    .dataframe tbody tr th:only-of-type {\n",
       "        vertical-align: middle;\n",
       "    }\n",
       "\n",
       "    .dataframe tbody tr th {\n",
       "        vertical-align: top;\n",
       "    }\n",
       "\n",
       "    .dataframe thead th {\n",
       "        text-align: right;\n",
       "    }\n",
       "</style>\n",
       "<table border=\"1\" class=\"dataframe\">\n",
       "  <thead>\n",
       "    <tr style=\"text-align: right;\">\n",
       "      <th></th>\n",
       "      <th>YearsExperience</th>\n",
       "      <th>Salary</th>\n",
       "    </tr>\n",
       "  </thead>\n",
       "  <tbody>\n",
       "    <tr>\n",
       "      <th>0</th>\n",
       "      <td>1.1</td>\n",
       "      <td>39343.0</td>\n",
       "    </tr>\n",
       "    <tr>\n",
       "      <th>1</th>\n",
       "      <td>1.3</td>\n",
       "      <td>46205.0</td>\n",
       "    </tr>\n",
       "    <tr>\n",
       "      <th>2</th>\n",
       "      <td>1.5</td>\n",
       "      <td>37731.0</td>\n",
       "    </tr>\n",
       "    <tr>\n",
       "      <th>3</th>\n",
       "      <td>2.0</td>\n",
       "      <td>43525.0</td>\n",
       "    </tr>\n",
       "    <tr>\n",
       "      <th>4</th>\n",
       "      <td>2.2</td>\n",
       "      <td>39891.0</td>\n",
       "    </tr>\n",
       "  </tbody>\n",
       "</table>\n",
       "</div>"
      ],
      "text/plain": [
       "   YearsExperience   Salary\n",
       "0              1.1  39343.0\n",
       "1              1.3  46205.0\n",
       "2              1.5  37731.0\n",
       "3              2.0  43525.0\n",
       "4              2.2  39891.0"
      ]
     },
     "execution_count": 9,
     "metadata": {},
     "output_type": "execute_result"
    }
   ],
   "source": [
    "saldat.head()"
   ]
  },
  {
   "cell_type": "code",
   "execution_count": 7,
   "metadata": {},
   "outputs": [
    {
     "data": {
      "image/png": "[encoded data removed]",
      "text/plain": [
       "<Figure size 432x288 with 1 Axes>"
      ]
     },
     "metadata": {
      "needs_background": "light"
     },
     "output_type": "display_data"
    }
   ],
   "source": [
    "plt.scatter(saldat.YearsExperience, saldat.Salary)\n",
    "corr=np.corrcoef(saldat.YearsExperience, saldat.Salary)[0,1]\n",
    "text=\"\\n\\n\\nCorrelation coefficient is %1.4f\"%corr\n",
    "plt.suptitle(text, color=\"blue\")\n",
    "plt.tight_layout()"
   ]
  },
  {
   "cell_type": "code",
   "execution_count": null,
   "metadata": {},
   "outputs": [],
   "source": []
  },
  {
   "cell_type": "code",
   "execution_count": 7,
   "metadata": {},
   "outputs": [],
   "source": [
    "import scipy.stats as stats"
   ]
  },
  {
   "cell_type": "code",
   "execution_count": 9,
   "metadata": {},
   "outputs": [
    {
     "data": {
      "text/plain": [
       "LinregressResult(slope=9449.96232145508, intercept=25792.20019866868, rvalue=0.9782416184887599, pvalue=1.1430681092271558e-20, stderr=378.75457423882153)"
      ]
     },
     "execution_count": 9,
     "metadata": {},
     "output_type": "execute_result"
    }
   ],
   "source": [
    "stats.linregress(saldat.YearsExperience, saldat.Salary)"
   ]
  },
  {
   "cell_type": "markdown",
   "metadata": {},
   "source": [
    "# Steps for building a ML Model\n",
    "\n",
    "1. Import the dataset\n",
    "2. Define your x and y values\n",
    "3. train and test split\n",
    "4. "
   ]
  },
  {
   "cell_type": "code",
   "execution_count": 22,
   "metadata": {},
   "outputs": [],
   "source": [
    "#splitting data in x and y\n",
    "x=saldat.drop(\"Salary\",axis=1)\n",
    "y=saldat.Salary"
   ]
  },
  {
   "cell_type": "code",
   "execution_count": 23,
   "metadata": {},
   "outputs": [],
   "source": [
    "from sklearn.model_selection import train_test_split"
   ]
  },
  {
   "cell_type": "code",
   "execution_count": 24,
   "metadata": {},
   "outputs": [],
   "source": [
    "xtrain,xtest,ytrain,ytest=train_test_split(x,y,test_size=1/3, random_state=0)\n",
    "#xtrain and ytrain will train the model with the data | xtest and ytest will the data with only x and predict the y and will\n",
    "#check the values for y"
   ]
  },
  {
   "cell_type": "code",
   "execution_count": 25,
   "metadata": {},
   "outputs": [],
   "source": [
    "from sklearn.linear_model import LinearRegression"
   ]
  },
  {
   "cell_type": "code",
   "execution_count": 26,
   "metadata": {},
   "outputs": [],
   "source": [
    "lm = LinearRegression() #created my machine"
   ]
  },
  {
   "cell_type": "code",
   "execution_count": 27,
   "metadata": {},
   "outputs": [
    {
     "data": {
      "text/plain": [
       "LinearRegression(copy_X=True, fit_intercept=True, n_jobs=None,\n",
       "         normalize=False)"
      ]
     },
     "execution_count": 27,
     "metadata": {},
     "output_type": "execute_result"
    }
   ],
   "source": [
    "#used to train data\n",
    "lm.fit(xtrain,ytrain)"
   ]
  },
  {
   "cell_type": "code",
   "execution_count": 30,
   "metadata": {},
   "outputs": [
    {
     "data": {
      "text/plain": [
       "array([ 40835.10590871, 123079.39940819,  65134.55626083,  63265.36777221,\n",
       "       115602.64545369, 108125.8914992 , 116537.23969801,  64199.96201652,\n",
       "        76349.68719258, 100649.1375447 ])"
      ]
     },
     "execution_count": 30,
     "metadata": {},
     "output_type": "execute_result"
    }
   ],
   "source": [
    "pred=lm.predict(xtest)\n",
    "pred"
   ]
  },
  {
   "cell_type": "code",
   "execution_count": 34,
   "metadata": {},
   "outputs": [],
   "source": [
    "from sklearn.tree import DecisionTreeRegressor"
   ]
  },
  {
   "cell_type": "code",
   "execution_count": 35,
   "metadata": {},
   "outputs": [],
   "source": [
    "dtree=DecisionTreeRegressor()"
   ]
  },
  {
   "cell_type": "code",
   "execution_count": 36,
   "metadata": {},
   "outputs": [
    {
     "data": {
      "text/plain": [
       "DecisionTreeRegressor(criterion='mse', max_depth=None, max_features=None,\n",
       "           max_leaf_nodes=None, min_impurity_decrease=0.0,\n",
       "           min_impurity_split=None, min_samples_leaf=1,\n",
       "           min_samples_split=2, min_weight_fraction_leaf=0.0,\n",
       "           presort=False, random_state=None, splitter='best')"
      ]
     },
     "execution_count": 36,
     "metadata": {},
     "output_type": "execute_result"
    }
   ],
   "source": [
    "dtree.fit(xtrain,ytrain)"
   ]
  },
  {
   "cell_type": "code",
   "execution_count": 37,
   "metadata": {},
   "outputs": [
    {
     "data": {
      "text/plain": [
       "array([ 46205., 121872.,  56957.,  56957., 105582., 105582., 105582.,\n",
       "        56957.,  66029., 113812.])"
      ]
     },
     "execution_count": 37,
     "metadata": {},
     "output_type": "execute_result"
    }
   ],
   "source": [
    "dtree.predict(xtest)"
   ]
  },
  {
   "cell_type": "code",
   "execution_count": 41,
   "metadata": {},
   "outputs": [
    {
     "data": {
      "text/plain": [
       "[<matplotlib.lines.Line2D at 0x24233bbec88>]"
      ]
     },
     "execution_count": 41,
     "metadata": {},
     "output_type": "execute_result"
    },
    {
     "data": {
      "image/png": "[encoded data removed]",
      "text/plain": [
       "<Figure size 432x288 with 1 Axes>"
      ]
     },
     "metadata": {
      "needs_background": "light"
     },
     "output_type": "display_data"
    }
   ],
   "source": [
    "plt.scatter(xtrain,ytrain,color='r')\n",
    "plt.plot(xtrain, lm.predict(xtrain))"
   ]
  },
  {
   "cell_type": "code",
   "execution_count": 44,
   "metadata": {},
   "outputs": [
    {
     "data": {
      "text/plain": [
       "[<matplotlib.lines.Line2D at 0x24232b04588>]"
      ]
     },
     "execution_count": 44,
     "metadata": {},
     "output_type": "execute_result"
    },
    {
     "data": {
      "image/png": "[encoded data removed]",
      "text/plain": [
       "<Figure size 432x288 with 1 Axes>"
      ]
     },
     "metadata": {
      "needs_background": "light"
     },
     "output_type": "display_data"
    }
   ],
   "source": [
    "plt.scatter(xtest,ytest,color='r')\n",
    "plt.plot(xtrain, lm.predict(xtrain)) #the prediction line is only from the train data so we plot the regression line using train"
   ]
  },
  {
   "cell_type": "code",
   "execution_count": 45,
   "metadata": {},
   "outputs": [],
   "source": [
    "mtcars=sm.datasets.get_rdataset(\"mtcars\").data"
   ]
  },
  {
   "cell_type": "code",
   "execution_count": 62,
   "metadata": {},
   "outputs": [],
   "source": [
    "y = mtcars.mpg \n",
    "x = mtcars[['wt']]"
   ]
  },
  {
   "cell_type": "code",
   "execution_count": 63,
   "metadata": {},
   "outputs": [],
   "source": [
    "xtrain,xtest,ytrain,ytest=train_test_split(x,y,test_size=0.30,random_state=112)"
   ]
  },
  {
   "cell_type": "code",
   "execution_count": 64,
   "metadata": {},
   "outputs": [
    {
     "data": {
      "text/plain": [
       "LinearRegression(copy_X=True, fit_intercept=True, n_jobs=None,\n",
       "         normalize=False)"
      ]
     },
     "execution_count": 64,
     "metadata": {},
     "output_type": "execute_result"
    }
   ],
   "source": [
    "lm.fit(xtrain,ytrain)"
   ]
  },
  {
   "cell_type": "code",
   "execution_count": 65,
   "metadata": {},
   "outputs": [
    {
     "data": {
      "text/plain": [
       "array([25.89508987, 18.20894965, 23.53477909, 16.91783948, 23.05061278,\n",
       "       16.89766588, 11.22888529, 26.30663124, 25.00745163, 10.52684414])"
      ]
     },
     "execution_count": 65,
     "metadata": {},
     "output_type": "execute_result"
    }
   ],
   "source": [
    "lm.predict(xtest)"
   ]
  },
  {
   "cell_type": "code",
   "execution_count": 66,
   "metadata": {},
   "outputs": [
    {
     "data": {
      "text/plain": [
       "[<matplotlib.lines.Line2D at 0x24233c260b8>]"
      ]
     },
     "execution_count": 66,
     "metadata": {},
     "output_type": "execute_result"
    },
    {
     "data": {
      "image/png": "[encoded data removed]",
      "text/plain": [
       "<Figure size 432x288 with 1 Axes>"
      ]
     },
     "metadata": {
      "needs_background": "light"
     },
     "output_type": "display_data"
    }
   ],
   "source": [
    "plt.scatter(xtrain,ytrain,color='r')\n",
    "plt.plot(xtrain, lm.predict(xtrain))"
   ]
  },
  {
   "cell_type": "code",
   "execution_count": 68,
   "metadata": {},
   "outputs": [
    {
     "data": {
      "text/plain": [
       "0.6587478873447591"
      ]
     },
     "execution_count": 68,
     "metadata": {},
     "output_type": "execute_result"
    }
   ],
   "source": [
    "corr=np.corrcoef(mtcars.hp, mtcars.wt)[0,1]\n",
    "corr"
   ]
  },
  {
   "cell_type": "code",
   "execution_count": 97,
   "metadata": {},
   "outputs": [],
   "source": [
    "#create a model\n",
    "x=mtcars.wt\n",
    "x = sm.add_constant(x) #Will add the intercept value as constant in the column\n",
    "y=mtcars.mpg\n",
    "model=sm.OLS(y,x).fit() #fitting the machine with data\n",
    "pred_OLS=model.predict(x) #prediction basis the learning otb"
   ]
  },
  {
   "cell_type": "code",
   "execution_count": 98,
   "metadata": {},
   "outputs": [],
   "source": [
    "#fitted values, residual and R squared\n",
    "fittedvals=model.fittedvalues #fitted values are predicted values\n",
    "residuals=model.resid #residuals are the errors \n",
    "rsq=model.rsquared"
   ]
  },
  {
   "cell_type": "code",
   "execution_count": 99,
   "metadata": {},
   "outputs": [
    {
     "data": {
      "text/plain": [
       "0.7528327936582646"
      ]
     },
     "execution_count": 99,
     "metadata": {},
     "output_type": "execute_result"
    }
   ],
   "source": [
    "rsq"
   ]
  },
  {
   "cell_type": "code",
   "execution_count": 100,
   "metadata": {},
   "outputs": [],
   "source": [
    "from sklearn.metrics import r2_score"
   ]
  },
  {
   "cell_type": "code",
   "execution_count": null,
   "metadata": {},
   "outputs": [],
   "source": [
    "lm.fit(x,y)"
   ]
  },
  {
   "cell_type": "code",
   "execution_count": 104,
   "metadata": {},
   "outputs": [
    {
     "data": {
      "text/plain": [
       "0.7528327936582646"
      ]
     },
     "execution_count": 104,
     "metadata": {},
     "output_type": "execute_result"
    }
   ],
   "source": [
    "lm.predict(x)\n",
    "r2_score(y,lm.predict(x))"
   ]
  },
  {
   "cell_type": "code",
   "execution_count": 122,
   "metadata": {},
   "outputs": [],
   "source": [
    "x=mtcars.drop('mpg',axis=1)\n",
    "x = sm.add_constant(x) #Will add the intercept value as constant in the column\n",
    "y=mtcars.mpg\n",
    "model=sm.OLS(y,x).fit() #fitting the machine with data\n",
    "pred_OLS=model.predict(x) #prediction basis the learning otb"
   ]
  },
  {
   "cell_type": "code",
   "execution_count": 123,
   "metadata": {},
   "outputs": [],
   "source": [
    "rsq2=model.rsquared"
   ]
  },
  {
   "cell_type": "code",
   "execution_count": 124,
   "metadata": {},
   "outputs": [
    {
     "data": {
      "text/plain": [
       "0.8690157644777647"
      ]
     },
     "execution_count": 124,
     "metadata": {},
     "output_type": "execute_result"
    }
   ],
   "source": [
    "rsq2"
   ]
  },
  {
   "cell_type": "code",
   "execution_count": 125,
   "metadata": {},
   "outputs": [],
   "source": [
    "multimodel=sm.OLS(y,x).fit()\n",
    "multi_pred=multimodel.predict(x)\n",
    "fitted=multimodel.fittedvalues\n",
    "res=multimodel.resid\n",
    "#multiple linear regression"
   ]
  },
  {
   "cell_type": "markdown",
   "metadata": {},
   "source": [
    "# Residual plot"
   ]
  },
  {
   "cell_type": "code",
   "execution_count": 118,
   "metadata": {},
   "outputs": [
    {
     "data": {
      "image/png": "[encoded data removed]",
      "text/plain": [
       "<Figure size 432x288 with 1 Axes>"
      ]
     },
     "metadata": {},
     "output_type": "display_data"
    }
   ],
   "source": [
    "sns.set(style=\"whitegrid\")\n",
    "ax=sns.residplot(fitted,res,color='r',lowess=True) #local regression smoothening line\n",
    "ax.set(xlabel=\"fitted values\", ylabel=\"residuals\",title=\"Residual Plot\")\n",
    "plt.show()"
   ]
  },
  {
   "cell_type": "markdown",
   "metadata": {},
   "source": [
    "- purpose of residual plot is to see if there is any pattern in the error values.. \n",
    "- core point - if the model is good enough it will not show any pattern in the plot and all the values will be randomly  scattered around the line of zero value.\n",
    "- The vertical distance bw the actual point and best fit line is the residual.\n",
    "- If the residual plot is 100% randomly sacttered along the line of zero then the variables are 100% linearly related. \n",
    "- If there is a pattern then the variables are not linearly related, and the model is not good, So to apply linear regression model we have to transform the data to remove the pattern. \n",
    "- if not randon the relation is non-linear\n",
    "- If the lowess line is curved then the data has no patterns and if line is straight then there is a pattern in the data\n"
   ]
  },
  {
   "cell_type": "markdown",
   "metadata": {},
   "source": [
    "# Normal QQ Plot"
   ]
  },
  {
   "cell_type": "markdown",
   "metadata": {},
   "source": [
    "- Studentized residuals aka Standardized residual = Residual/ Standard deviation\n"
   ]
  },
  {
   "cell_type": "code",
   "execution_count": 120,
   "metadata": {},
   "outputs": [],
   "source": [
    "import scipy.stats as stats\n",
    "import pylab"
   ]
  },
  {
   "cell_type": "code",
   "execution_count": 128,
   "metadata": {},
   "outputs": [
    {
     "data": {
      "image/png": "[encoded data removed]",
      "text/plain": [
       "<Figure size 432x288 with 1 Axes>"
      ]
     },
     "metadata": {},
     "output_type": "display_data"
    }
   ],
   "source": [
    "#finding the standardized residual \n",
    "st_residual=multimodel.get_influence().resid_studentized_internal\n",
    "stats.probplot(st_residual,dist=\"norm\",plot=pylab)\n",
    "plt.show()"
   ]
  },
  {
   "cell_type": "markdown",
   "metadata": {},
   "source": [
    "- Tells whether the data follows a normal distribution nature \n",
    "- All of the studentized data must follow the base line then the data has normal distribution pattern\n",
    "- The test of normality or shapiro wilk test will ensure the quality of QQ plot\n",
    "- The shapiro test(Tets of normality) or the test of significance will show acceptance of null hypothesis which in turn proves the existance of normal distribution \n",
    "- 1- p will give the confidence interval"
   ]
  },
  {
   "cell_type": "code",
   "execution_count": 129,
   "metadata": {},
   "outputs": [],
   "source": [
    "from scipy.stats import shapiro"
   ]
  },
  {
   "cell_type": "markdown",
   "metadata": {},
   "source": [
    "# if we fail to reject null hypothesis - Data sample is following Normal distribution\n",
    "\n",
    "# if we reject null hypothesis - Data sample is not following Normal distribution"
   ]
  },
  {
   "cell_type": "code",
   "execution_count": 138,
   "metadata": {},
   "outputs": [],
   "source": [
    "test= shapiro(st_residual)\n",
    "#The 1st value is w value and the 2nd value is p value\n",
    "#If the p value is greater than 5% we reject the null hypothesis"
   ]
  },
  {
   "cell_type": "code",
   "execution_count": 139,
   "metadata": {},
   "outputs": [
    {
     "name": "stdout",
     "output_type": "stream",
     "text": [
      "Fail to reject null hypothesis\n"
     ]
    }
   ],
   "source": [
    "if test[1]<0.05:\n",
    "    print(\"Reject null hypothesis\")\n",
    "else:\n",
    "    print(\"Fail to reject null hypothesis\")"
   ]
  },
  {
   "cell_type": "code",
   "execution_count": null,
   "metadata": {},
   "outputs": [],
   "source": []
  },
  {
   "cell_type": "markdown",
   "metadata": {},
   "source": [
    "# Cement Dataset Classwork"
   ]
  },
  {
   "cell_type": "code",
   "execution_count": null,
   "metadata": {},
   "outputs": [],
   "source": []
  },
  {
   "cell_type": "code",
   "execution_count": 142,
   "metadata": {},
   "outputs": [],
   "source": [
    "con=pd.read_csv(\"concrete.csv\")"
   ]
  },
  {
   "cell_type": "code",
   "execution_count": 143,
   "metadata": {},
   "outputs": [
    {
     "data": {
      "text/html": [
       "<div>\n",
       "<style scoped>\n",
       "    .dataframe tbody tr th:only-of-type {\n",
       "        vertical-align: middle;\n",
       "    }\n",
       "\n",
       "    .dataframe tbody tr th {\n",
       "        vertical-align: top;\n",
       "    }\n",
       "\n",
       "    .dataframe thead th {\n",
       "        text-align: right;\n",
       "    }\n",
       "</style>\n",
       "<table border=\"1\" class=\"dataframe\">\n",
       "  <thead>\n",
       "    <tr style=\"text-align: right;\">\n",
       "      <th></th>\n",
       "      <th>cement</th>\n",
       "      <th>slag</th>\n",
       "      <th>ash</th>\n",
       "      <th>water</th>\n",
       "      <th>superplastic</th>\n",
       "      <th>coarseagg</th>\n",
       "      <th>fineagg</th>\n",
       "      <th>age</th>\n",
       "      <th>strength</th>\n",
       "    </tr>\n",
       "  </thead>\n",
       "  <tbody>\n",
       "    <tr>\n",
       "      <th>0</th>\n",
       "      <td>141.3</td>\n",
       "      <td>212.0</td>\n",
       "      <td>0.0</td>\n",
       "      <td>203.5</td>\n",
       "      <td>0.0</td>\n",
       "      <td>971.8</td>\n",
       "      <td>748.5</td>\n",
       "      <td>28</td>\n",
       "      <td>29.89</td>\n",
       "    </tr>\n",
       "    <tr>\n",
       "      <th>1</th>\n",
       "      <td>168.9</td>\n",
       "      <td>42.2</td>\n",
       "      <td>124.3</td>\n",
       "      <td>158.3</td>\n",
       "      <td>10.8</td>\n",
       "      <td>1080.8</td>\n",
       "      <td>796.2</td>\n",
       "      <td>14</td>\n",
       "      <td>23.51</td>\n",
       "    </tr>\n",
       "    <tr>\n",
       "      <th>2</th>\n",
       "      <td>250.0</td>\n",
       "      <td>0.0</td>\n",
       "      <td>95.7</td>\n",
       "      <td>187.4</td>\n",
       "      <td>5.5</td>\n",
       "      <td>956.9</td>\n",
       "      <td>861.2</td>\n",
       "      <td>28</td>\n",
       "      <td>29.22</td>\n",
       "    </tr>\n",
       "    <tr>\n",
       "      <th>3</th>\n",
       "      <td>266.0</td>\n",
       "      <td>114.0</td>\n",
       "      <td>0.0</td>\n",
       "      <td>228.0</td>\n",
       "      <td>0.0</td>\n",
       "      <td>932.0</td>\n",
       "      <td>670.0</td>\n",
       "      <td>28</td>\n",
       "      <td>45.85</td>\n",
       "    </tr>\n",
       "    <tr>\n",
       "      <th>4</th>\n",
       "      <td>154.8</td>\n",
       "      <td>183.4</td>\n",
       "      <td>0.0</td>\n",
       "      <td>193.3</td>\n",
       "      <td>9.1</td>\n",
       "      <td>1047.4</td>\n",
       "      <td>696.7</td>\n",
       "      <td>28</td>\n",
       "      <td>18.29</td>\n",
       "    </tr>\n",
       "  </tbody>\n",
       "</table>\n",
       "</div>"
      ],
      "text/plain": [
       "   cement   slag    ash  water  superplastic  coarseagg  fineagg  age  \\\n",
       "0   141.3  212.0    0.0  203.5           0.0      971.8    748.5   28   \n",
       "1   168.9   42.2  124.3  158.3          10.8     1080.8    796.2   14   \n",
       "2   250.0    0.0   95.7  187.4           5.5      956.9    861.2   28   \n",
       "3   266.0  114.0    0.0  228.0           0.0      932.0    670.0   28   \n",
       "4   154.8  183.4    0.0  193.3           9.1     1047.4    696.7   28   \n",
       "\n",
       "   strength  \n",
       "0     29.89  \n",
       "1     23.51  \n",
       "2     29.22  \n",
       "3     45.85  \n",
       "4     18.29  "
      ]
     },
     "execution_count": 143,
     "metadata": {},
     "output_type": "execute_result"
    }
   ],
   "source": [
    "con.head()"
   ]
  },
  {
   "cell_type": "code",
   "execution_count": 153,
   "metadata": {},
   "outputs": [
    {
     "data": {
      "text/plain": [
       "0.49783191932415743"
      ]
     },
     "execution_count": 153,
     "metadata": {},
     "output_type": "execute_result"
    }
   ],
   "source": [
    "np.corrcoef(con.cement,con.strength)[0,1]"
   ]
  },
  {
   "cell_type": "markdown",
   "metadata": {},
   "source": [
    "# Only 3 columns"
   ]
  },
  {
   "cell_type": "code",
   "execution_count": 195,
   "metadata": {},
   "outputs": [],
   "source": [
    "x=con[['slag','ash','age']]\n",
    "y=con.strength\n",
    "model=sm.OLS(y,x).fit()\n",
    "pred_OLS=model.predict(x)"
   ]
  },
  {
   "cell_type": "code",
   "execution_count": 196,
   "metadata": {},
   "outputs": [
    {
     "data": {
      "text/plain": [
       "0.7073532685115466"
      ]
     },
     "execution_count": 196,
     "metadata": {},
     "output_type": "execute_result"
    }
   ],
   "source": [
    "rsqcem=model.rsquared\n",
    "rsqcem"
   ]
  },
  {
   "cell_type": "code",
   "execution_count": 197,
   "metadata": {},
   "outputs": [],
   "source": [
    "cemfitted=model.fittedvalues\n",
    "cemres=model.resid"
   ]
  },
  {
   "cell_type": "code",
   "execution_count": 198,
   "metadata": {},
   "outputs": [
    {
     "data": {
      "image/png": "[encoded data removed]",
      "text/plain": [
       "<Figure size 432x288 with 1 Axes>"
      ]
     },
     "metadata": {},
     "output_type": "display_data"
    }
   ],
   "source": [
    "sns.set(style=\"whitegrid\")\n",
    "ax=sns.residplot(cemfitted,cemres,color='r',lowess=True) #local regression smoothening line\n",
    "ax.set(xlabel=\"fitted values\", ylabel=\"residuals\",title=\"Residual Plot\")\n",
    "plt.show()"
   ]
  },
  {
   "cell_type": "code",
   "execution_count": 180,
   "metadata": {},
   "outputs": [
    {
     "data": {
      "image/png": "[encoded data removed]",
      "text/plain": [
       "<Figure size 432x288 with 1 Axes>"
      ]
     },
     "metadata": {},
     "output_type": "display_data"
    }
   ],
   "source": [
    "st_residual=model.get_influence().resid_studentized_internal\n",
    "stats.probplot(st_residual,dist=\"norm\",plot=pylab)\n",
    "plt.show()"
   ]
  },
  {
   "cell_type": "code",
   "execution_count": 181,
   "metadata": {},
   "outputs": [],
   "source": [
    "test= shapiro(cemres)"
   ]
  },
  {
   "cell_type": "code",
   "execution_count": 182,
   "metadata": {},
   "outputs": [
    {
     "name": "stdout",
     "output_type": "stream",
     "text": [
      "Reject null hypothesis\n"
     ]
    }
   ],
   "source": [
    "if test[1]<0.05:\n",
    "    print(\"Reject null hypothesis\")\n",
    "else:\n",
    "    print(\"Fail to reject null hypothesis\")"
   ]
  },
  {
   "cell_type": "code",
   "execution_count": null,
   "metadata": {},
   "outputs": [],
   "source": []
  },
  {
   "cell_type": "markdown",
   "metadata": {},
   "source": [
    "# For all columns from cement"
   ]
  },
  {
   "cell_type": "code",
   "execution_count": 167,
   "metadata": {},
   "outputs": [],
   "source": [
    "x=con.drop(\"strength\",axis=1)\n",
    "y=con.strength\n",
    "model=sm.OLS(y,x).fit()\n",
    "pred_OLS=model.predict(x)"
   ]
  },
  {
   "cell_type": "code",
   "execution_count": 163,
   "metadata": {},
   "outputs": [
    {
     "data": {
      "text/plain": [
       "0.9313084829389178"
      ]
     },
     "execution_count": 163,
     "metadata": {},
     "output_type": "execute_result"
    }
   ],
   "source": [
    "rsqcem=model.rsquared\n",
    "rsqcem"
   ]
  },
  {
   "cell_type": "code",
   "execution_count": 169,
   "metadata": {},
   "outputs": [],
   "source": [
    "#residual plot\n",
    "cemfitted=model.fittedvalues\n",
    "cemres=model.resid"
   ]
  },
  {
   "cell_type": "code",
   "execution_count": 170,
   "metadata": {},
   "outputs": [
    {
     "data": {
      "image/png": "[encoded data removed]",
      "text/plain": [
       "<Figure size 432x288 with 1 Axes>"
      ]
     },
     "metadata": {},
     "output_type": "display_data"
    }
   ],
   "source": [
    "sns.set(style=\"whitegrid\")\n",
    "ax=sns.residplot(cemfitted,cemres,color='r',lowess=True) #local regression smoothening line\n",
    "ax.set(xlabel=\"fitted values\", ylabel=\"residuals\",title=\"Residual Plot\")\n",
    "plt.show()"
   ]
  },
  {
   "cell_type": "code",
   "execution_count": 172,
   "metadata": {},
   "outputs": [
    {
     "data": {
      "image/png": "[encoded data removed]",
      "text/plain": [
       "<Figure size 432x288 with 1 Axes>"
      ]
     },
     "metadata": {},
     "output_type": "display_data"
    }
   ],
   "source": [
    "st_residual=model.get_influence().resid_studentized_internal\n",
    "stats.probplot(st_residual,dist=\"norm\",plot=pylab)\n",
    "plt.show()"
   ]
  },
  {
   "cell_type": "code",
   "execution_count": 173,
   "metadata": {},
   "outputs": [],
   "source": [
    "test= shapiro(cemres)"
   ]
  },
  {
   "cell_type": "code",
   "execution_count": 174,
   "metadata": {},
   "outputs": [
    {
     "name": "stdout",
     "output_type": "stream",
     "text": [
      "Reject null hypothesis\n"
     ]
    }
   ],
   "source": [
    "if test[1]<0.05:\n",
    "    print(\"Reject null hypothesis\")\n",
    "else:\n",
    "    print(\"Fail to reject null hypothesis\")"
   ]
  },
  {
   "cell_type": "markdown",
   "metadata": {},
   "source": [
    " Variance Inflation Factor Test\n",
    " - backward elimination of variables "
   ]
  },
  {
   "cell_type": "code",
   "execution_count": 183,
   "metadata": {},
   "outputs": [],
   "source": [
    "#vif \n",
    "from statsmodels.stats.outliers_influence import variance_inflation_factor"
   ]
  },
  {
   "cell_type": "code",
   "execution_count": 186,
   "metadata": {},
   "outputs": [],
   "source": [
    "x=con.drop(\"strength\",axis=1)\n",
    "y=con.strength\n",
    "model=sm.OLS(y,x).fit()\n",
    "pred_OLS=model.predict(x)"
   ]
  },
  {
   "cell_type": "code",
   "execution_count": 193,
   "metadata": {},
   "outputs": [],
   "source": [
    "vif=pd.DataFrame()\n",
    "vif[\"VIF Values\"]=[variance_inflation_factor(x.values,j) for j in range(0,x.shape[1])]"
   ]
  },
  {
   "cell_type": "code",
   "execution_count": 194,
   "metadata": {},
   "outputs": [
    {
     "data": {
      "text/plain": [
       "Index(['cement', 'slag', 'ash', 'water', 'superplastic', 'coarseagg',\n",
       "       'fineagg', 'age', 'strength'],\n",
       "      dtype='object')"
      ]
     },
     "execution_count": 194,
     "metadata": {},
     "output_type": "execute_result"
    }
   ],
   "source": [
    "con.columns"
   ]
  },
  {
   "cell_type": "code",
   "execution_count": 201,
   "metadata": {},
   "outputs": [],
   "source": [
    "ce=['cement', 'slag', 'ash', 'water', 'superplastic', 'coarseagg',\n",
    "       'fineagg', 'age']"
   ]
  },
  {
   "cell_type": "code",
   "execution_count": 202,
   "metadata": {},
   "outputs": [],
   "source": [
    "vif['Feature Names']=ce"
   ]
  },
  {
   "cell_type": "code",
   "execution_count": 203,
   "metadata": {},
   "outputs": [
    {
     "data": {
      "text/html": [
       "<div>\n",
       "<style scoped>\n",
       "    .dataframe tbody tr th:only-of-type {\n",
       "        vertical-align: middle;\n",
       "    }\n",
       "\n",
       "    .dataframe tbody tr th {\n",
       "        vertical-align: top;\n",
       "    }\n",
       "\n",
       "    .dataframe thead th {\n",
       "        text-align: right;\n",
       "    }\n",
       "</style>\n",
       "<table border=\"1\" class=\"dataframe\">\n",
       "  <thead>\n",
       "    <tr style=\"text-align: right;\">\n",
       "      <th></th>\n",
       "      <th>VIF Values</th>\n",
       "      <th>Feature Names</th>\n",
       "    </tr>\n",
       "  </thead>\n",
       "  <tbody>\n",
       "    <tr>\n",
       "      <th>0</th>\n",
       "      <td>15.456717</td>\n",
       "      <td>cement</td>\n",
       "    </tr>\n",
       "    <tr>\n",
       "      <th>1</th>\n",
       "      <td>3.329127</td>\n",
       "      <td>slag</td>\n",
       "    </tr>\n",
       "    <tr>\n",
       "      <th>2</th>\n",
       "      <td>4.147833</td>\n",
       "      <td>ash</td>\n",
       "    </tr>\n",
       "    <tr>\n",
       "      <th>3</th>\n",
       "      <td>82.157569</td>\n",
       "      <td>water</td>\n",
       "    </tr>\n",
       "    <tr>\n",
       "      <th>4</th>\n",
       "      <td>5.471094</td>\n",
       "      <td>superplastic</td>\n",
       "    </tr>\n",
       "    <tr>\n",
       "      <th>5</th>\n",
       "      <td>84.955779</td>\n",
       "      <td>coarseagg</td>\n",
       "    </tr>\n",
       "    <tr>\n",
       "      <th>6</th>\n",
       "      <td>72.790995</td>\n",
       "      <td>fineagg</td>\n",
       "    </tr>\n",
       "    <tr>\n",
       "      <th>7</th>\n",
       "      <td>1.699459</td>\n",
       "      <td>age</td>\n",
       "    </tr>\n",
       "  </tbody>\n",
       "</table>\n",
       "</div>"
      ],
      "text/plain": [
       "   VIF Values Feature Names\n",
       "0   15.456717        cement\n",
       "1    3.329127          slag\n",
       "2    4.147833           ash\n",
       "3   82.157569         water\n",
       "4    5.471094  superplastic\n",
       "5   84.955779     coarseagg\n",
       "6   72.790995       fineagg\n",
       "7    1.699459           age"
      ]
     },
     "execution_count": 203,
     "metadata": {},
     "output_type": "execute_result"
    }
   ],
   "source": [
    "vif"
   ]
  },
  {
   "cell_type": "code",
   "execution_count": null,
   "metadata": {},
   "outputs": [],
   "source": []
  },
  {
   "cell_type": "code",
   "execution_count": null,
   "metadata": {},
   "outputs": [],
   "source": []
  },
  {
   "cell_type": "code",
   "execution_count": 206,
   "metadata": {},
   "outputs": [],
   "source": [
    "cst=pd.read_csv(\"Carseats.csv\")"
   ]
  },
  {
   "cell_type": "code",
   "execution_count": 207,
   "metadata": {
    "scrolled": true
   },
   "outputs": [
    {
     "data": {
      "text/html": [
       "<div>\n",
       "<style scoped>\n",
       "    .dataframe tbody tr th:only-of-type {\n",
       "        vertical-align: middle;\n",
       "    }\n",
       "\n",
       "    .dataframe tbody tr th {\n",
       "        vertical-align: top;\n",
       "    }\n",
       "\n",
       "    .dataframe thead th {\n",
       "        text-align: right;\n",
       "    }\n",
       "</style>\n",
       "<table border=\"1\" class=\"dataframe\">\n",
       "  <thead>\n",
       "    <tr style=\"text-align: right;\">\n",
       "      <th></th>\n",
       "      <th>Sales</th>\n",
       "      <th>CompPrice</th>\n",
       "      <th>Income</th>\n",
       "      <th>Advertising</th>\n",
       "      <th>Population</th>\n",
       "      <th>Price</th>\n",
       "      <th>ShelveLoc</th>\n",
       "      <th>Age</th>\n",
       "      <th>Education</th>\n",
       "      <th>Urban</th>\n",
       "      <th>US</th>\n",
       "    </tr>\n",
       "  </thead>\n",
       "  <tbody>\n",
       "    <tr>\n",
       "      <th>0</th>\n",
       "      <td>9.50</td>\n",
       "      <td>138</td>\n",
       "      <td>73</td>\n",
       "      <td>11</td>\n",
       "      <td>276</td>\n",
       "      <td>120</td>\n",
       "      <td>Bad</td>\n",
       "      <td>42</td>\n",
       "      <td>17</td>\n",
       "      <td>Yes</td>\n",
       "      <td>Yes</td>\n",
       "    </tr>\n",
       "    <tr>\n",
       "      <th>1</th>\n",
       "      <td>11.22</td>\n",
       "      <td>111</td>\n",
       "      <td>48</td>\n",
       "      <td>16</td>\n",
       "      <td>260</td>\n",
       "      <td>83</td>\n",
       "      <td>Good</td>\n",
       "      <td>65</td>\n",
       "      <td>10</td>\n",
       "      <td>Yes</td>\n",
       "      <td>Yes</td>\n",
       "    </tr>\n",
       "    <tr>\n",
       "      <th>2</th>\n",
       "      <td>10.06</td>\n",
       "      <td>113</td>\n",
       "      <td>35</td>\n",
       "      <td>10</td>\n",
       "      <td>269</td>\n",
       "      <td>80</td>\n",
       "      <td>Medium</td>\n",
       "      <td>59</td>\n",
       "      <td>12</td>\n",
       "      <td>Yes</td>\n",
       "      <td>Yes</td>\n",
       "    </tr>\n",
       "    <tr>\n",
       "      <th>3</th>\n",
       "      <td>7.40</td>\n",
       "      <td>117</td>\n",
       "      <td>100</td>\n",
       "      <td>4</td>\n",
       "      <td>466</td>\n",
       "      <td>97</td>\n",
       "      <td>Medium</td>\n",
       "      <td>55</td>\n",
       "      <td>14</td>\n",
       "      <td>Yes</td>\n",
       "      <td>Yes</td>\n",
       "    </tr>\n",
       "    <tr>\n",
       "      <th>4</th>\n",
       "      <td>4.15</td>\n",
       "      <td>141</td>\n",
       "      <td>64</td>\n",
       "      <td>3</td>\n",
       "      <td>340</td>\n",
       "      <td>128</td>\n",
       "      <td>Bad</td>\n",
       "      <td>38</td>\n",
       "      <td>13</td>\n",
       "      <td>Yes</td>\n",
       "      <td>No</td>\n",
       "    </tr>\n",
       "  </tbody>\n",
       "</table>\n",
       "</div>"
      ],
      "text/plain": [
       "   Sales  CompPrice  Income  Advertising  Population  Price ShelveLoc  Age  \\\n",
       "0   9.50        138      73           11         276    120       Bad   42   \n",
       "1  11.22        111      48           16         260     83      Good   65   \n",
       "2  10.06        113      35           10         269     80    Medium   59   \n",
       "3   7.40        117     100            4         466     97    Medium   55   \n",
       "4   4.15        141      64            3         340    128       Bad   38   \n",
       "\n",
       "   Education Urban   US  \n",
       "0         17   Yes  Yes  \n",
       "1         10   Yes  Yes  \n",
       "2         12   Yes  Yes  \n",
       "3         14   Yes  Yes  \n",
       "4         13   Yes   No  "
      ]
     },
     "execution_count": 207,
     "metadata": {},
     "output_type": "execute_result"
    }
   ],
   "source": [
    "cst.head()"
   ]
  },
  {
   "cell_type": "code",
   "execution_count": 208,
   "metadata": {},
   "outputs": [],
   "source": [
    "newcst=pd.get_dummies(cst)"
   ]
  },
  {
   "cell_type": "code",
   "execution_count": 210,
   "metadata": {},
   "outputs": [
    {
     "data": {
      "text/html": [
       "<div>\n",
       "<style scoped>\n",
       "    .dataframe tbody tr th:only-of-type {\n",
       "        vertical-align: middle;\n",
       "    }\n",
       "\n",
       "    .dataframe tbody tr th {\n",
       "        vertical-align: top;\n",
       "    }\n",
       "\n",
       "    .dataframe thead th {\n",
       "        text-align: right;\n",
       "    }\n",
       "</style>\n",
       "<table border=\"1\" class=\"dataframe\">\n",
       "  <thead>\n",
       "    <tr style=\"text-align: right;\">\n",
       "      <th></th>\n",
       "      <th>Sales</th>\n",
       "      <th>CompPrice</th>\n",
       "      <th>Income</th>\n",
       "      <th>Advertising</th>\n",
       "      <th>Population</th>\n",
       "      <th>Price</th>\n",
       "      <th>Age</th>\n",
       "      <th>Education</th>\n",
       "      <th>ShelveLoc_Bad</th>\n",
       "      <th>ShelveLoc_Good</th>\n",
       "      <th>ShelveLoc_Medium</th>\n",
       "      <th>Urban_No</th>\n",
       "      <th>Urban_Yes</th>\n",
       "      <th>US_No</th>\n",
       "      <th>US_Yes</th>\n",
       "    </tr>\n",
       "  </thead>\n",
       "  <tbody>\n",
       "    <tr>\n",
       "      <th>0</th>\n",
       "      <td>9.50</td>\n",
       "      <td>138</td>\n",
       "      <td>73</td>\n",
       "      <td>11</td>\n",
       "      <td>276</td>\n",
       "      <td>120</td>\n",
       "      <td>42</td>\n",
       "      <td>17</td>\n",
       "      <td>1</td>\n",
       "      <td>0</td>\n",
       "      <td>0</td>\n",
       "      <td>0</td>\n",
       "      <td>1</td>\n",
       "      <td>0</td>\n",
       "      <td>1</td>\n",
       "    </tr>\n",
       "    <tr>\n",
       "      <th>1</th>\n",
       "      <td>11.22</td>\n",
       "      <td>111</td>\n",
       "      <td>48</td>\n",
       "      <td>16</td>\n",
       "      <td>260</td>\n",
       "      <td>83</td>\n",
       "      <td>65</td>\n",
       "      <td>10</td>\n",
       "      <td>0</td>\n",
       "      <td>1</td>\n",
       "      <td>0</td>\n",
       "      <td>0</td>\n",
       "      <td>1</td>\n",
       "      <td>0</td>\n",
       "      <td>1</td>\n",
       "    </tr>\n",
       "    <tr>\n",
       "      <th>2</th>\n",
       "      <td>10.06</td>\n",
       "      <td>113</td>\n",
       "      <td>35</td>\n",
       "      <td>10</td>\n",
       "      <td>269</td>\n",
       "      <td>80</td>\n",
       "      <td>59</td>\n",
       "      <td>12</td>\n",
       "      <td>0</td>\n",
       "      <td>0</td>\n",
       "      <td>1</td>\n",
       "      <td>0</td>\n",
       "      <td>1</td>\n",
       "      <td>0</td>\n",
       "      <td>1</td>\n",
       "    </tr>\n",
       "    <tr>\n",
       "      <th>3</th>\n",
       "      <td>7.40</td>\n",
       "      <td>117</td>\n",
       "      <td>100</td>\n",
       "      <td>4</td>\n",
       "      <td>466</td>\n",
       "      <td>97</td>\n",
       "      <td>55</td>\n",
       "      <td>14</td>\n",
       "      <td>0</td>\n",
       "      <td>0</td>\n",
       "      <td>1</td>\n",
       "      <td>0</td>\n",
       "      <td>1</td>\n",
       "      <td>0</td>\n",
       "      <td>1</td>\n",
       "    </tr>\n",
       "    <tr>\n",
       "      <th>4</th>\n",
       "      <td>4.15</td>\n",
       "      <td>141</td>\n",
       "      <td>64</td>\n",
       "      <td>3</td>\n",
       "      <td>340</td>\n",
       "      <td>128</td>\n",
       "      <td>38</td>\n",
       "      <td>13</td>\n",
       "      <td>1</td>\n",
       "      <td>0</td>\n",
       "      <td>0</td>\n",
       "      <td>0</td>\n",
       "      <td>1</td>\n",
       "      <td>1</td>\n",
       "      <td>0</td>\n",
       "    </tr>\n",
       "  </tbody>\n",
       "</table>\n",
       "</div>"
      ],
      "text/plain": [
       "   Sales  CompPrice  Income  Advertising  Population  Price  Age  Education  \\\n",
       "0   9.50        138      73           11         276    120   42         17   \n",
       "1  11.22        111      48           16         260     83   65         10   \n",
       "2  10.06        113      35           10         269     80   59         12   \n",
       "3   7.40        117     100            4         466     97   55         14   \n",
       "4   4.15        141      64            3         340    128   38         13   \n",
       "\n",
       "   ShelveLoc_Bad  ShelveLoc_Good  ShelveLoc_Medium  Urban_No  Urban_Yes  \\\n",
       "0              1               0                 0         0          1   \n",
       "1              0               1                 0         0          1   \n",
       "2              0               0                 1         0          1   \n",
       "3              0               0                 1         0          1   \n",
       "4              1               0                 0         0          1   \n",
       "\n",
       "   US_No  US_Yes  \n",
       "0      0       1  \n",
       "1      0       1  \n",
       "2      0       1  \n",
       "3      0       1  \n",
       "4      1       0  "
      ]
     },
     "execution_count": 210,
     "metadata": {},
     "output_type": "execute_result"
    }
   ],
   "source": [
    "newcst.head()"
   ]
  },
  {
   "cell_type": "code",
   "execution_count": 212,
   "metadata": {},
   "outputs": [],
   "source": [
    "x=newcst.drop(\"Sales\",axis=1)\n",
    "y=newcst.Sales\n",
    "carmodel=sm.OLS(y,x).fit()\n",
    "car_pred_OLS=carmodel.predict(x)"
   ]
  },
  {
   "cell_type": "code",
   "execution_count": 213,
   "metadata": {},
   "outputs": [],
   "source": [
    "carfitted=carmodel.fittedvalues\n",
    "carres=carmodel.resid"
   ]
  },
  {
   "cell_type": "code",
   "execution_count": 214,
   "metadata": {},
   "outputs": [
    {
     "data": {
      "image/png": "[encoded data removed]",
      "text/plain": [
       "<Figure size 432x288 with 1 Axes>"
      ]
     },
     "metadata": {},
     "output_type": "display_data"
    }
   ],
   "source": [
    "sns.set(style=\"whitegrid\")\n",
    "ax=sns.residplot(carfitted,carres,color='r',lowess=True)\n",
    "ax.set(xlabel=\"fitted values\", ylabel=\"residuals\",title=\"Residual Plot\")\n",
    "plt.show()"
   ]
  },
  {
   "cell_type": "code",
   "execution_count": 215,
   "metadata": {},
   "outputs": [
    {
     "data": {
      "image/png": "[encoded data removed]",
      "text/plain": [
       "<Figure size 432x288 with 1 Axes>"
      ]
     },
     "metadata": {},
     "output_type": "display_data"
    }
   ],
   "source": [
    "car_st_residual=carmodel.get_influence().resid_studentized_internal\n",
    "stats.probplot(car_st_residual,dist=\"norm\",plot=pylab)\n",
    "plt.show()"
   ]
  },
  {
   "cell_type": "code",
   "execution_count": 218,
   "metadata": {},
   "outputs": [
    {
     "data": {
      "text/plain": [
       "0.8734133434127013"
      ]
     },
     "execution_count": 218,
     "metadata": {},
     "output_type": "execute_result"
    }
   ],
   "source": [
    "carmodel.rsquared"
   ]
  },
  {
   "cell_type": "code",
   "execution_count": null,
   "metadata": {},
   "outputs": [],
   "source": []
  },
  {
   "cell_type": "markdown",
   "metadata": {},
   "source": [
    "When standardized residuals which is greater than 3 is considered to be an outlier based on empirical rule."
   ]
  },
  {
   "cell_type": "code",
   "execution_count": null,
   "metadata": {},
   "outputs": [],
   "source": []
  },
  {
   "cell_type": "markdown",
   "metadata": {},
   "source": [
    "# DAY 3"
   ]
  },
  {
   "cell_type": "code",
   "execution_count": 219,
   "metadata": {},
   "outputs": [],
   "source": [
    "ins=pd.read_csv(\"Insurance.csv\")"
   ]
  },
  {
   "cell_type": "code",
   "execution_count": 220,
   "metadata": {},
   "outputs": [
    {
     "data": {
      "text/html": [
       "<div>\n",
       "<style scoped>\n",
       "    .dataframe tbody tr th:only-of-type {\n",
       "        vertical-align: middle;\n",
       "    }\n",
       "\n",
       "    .dataframe tbody tr th {\n",
       "        vertical-align: top;\n",
       "    }\n",
       "\n",
       "    .dataframe thead th {\n",
       "        text-align: right;\n",
       "    }\n",
       "</style>\n",
       "<table border=\"1\" class=\"dataframe\">\n",
       "  <thead>\n",
       "    <tr style=\"text-align: right;\">\n",
       "      <th></th>\n",
       "      <th>age</th>\n",
       "      <th>sex</th>\n",
       "      <th>bmi</th>\n",
       "      <th>children</th>\n",
       "      <th>smoker</th>\n",
       "      <th>region</th>\n",
       "      <th>charges</th>\n",
       "    </tr>\n",
       "  </thead>\n",
       "  <tbody>\n",
       "    <tr>\n",
       "      <th>0</th>\n",
       "      <td>19</td>\n",
       "      <td>female</td>\n",
       "      <td>27.900</td>\n",
       "      <td>0</td>\n",
       "      <td>yes</td>\n",
       "      <td>southwest</td>\n",
       "      <td>16884.92400</td>\n",
       "    </tr>\n",
       "    <tr>\n",
       "      <th>1</th>\n",
       "      <td>18</td>\n",
       "      <td>male</td>\n",
       "      <td>33.770</td>\n",
       "      <td>1</td>\n",
       "      <td>no</td>\n",
       "      <td>southeast</td>\n",
       "      <td>1725.55230</td>\n",
       "    </tr>\n",
       "    <tr>\n",
       "      <th>2</th>\n",
       "      <td>28</td>\n",
       "      <td>male</td>\n",
       "      <td>33.000</td>\n",
       "      <td>3</td>\n",
       "      <td>no</td>\n",
       "      <td>southeast</td>\n",
       "      <td>4449.46200</td>\n",
       "    </tr>\n",
       "    <tr>\n",
       "      <th>3</th>\n",
       "      <td>33</td>\n",
       "      <td>male</td>\n",
       "      <td>22.705</td>\n",
       "      <td>0</td>\n",
       "      <td>no</td>\n",
       "      <td>northwest</td>\n",
       "      <td>21984.47061</td>\n",
       "    </tr>\n",
       "    <tr>\n",
       "      <th>4</th>\n",
       "      <td>32</td>\n",
       "      <td>male</td>\n",
       "      <td>28.880</td>\n",
       "      <td>0</td>\n",
       "      <td>no</td>\n",
       "      <td>northwest</td>\n",
       "      <td>3866.85520</td>\n",
       "    </tr>\n",
       "  </tbody>\n",
       "</table>\n",
       "</div>"
      ],
      "text/plain": [
       "   age     sex     bmi  children smoker     region      charges\n",
       "0   19  female  27.900         0    yes  southwest  16884.92400\n",
       "1   18    male  33.770         1     no  southeast   1725.55230\n",
       "2   28    male  33.000         3     no  southeast   4449.46200\n",
       "3   33    male  22.705         0     no  northwest  21984.47061\n",
       "4   32    male  28.880         0     no  northwest   3866.85520"
      ]
     },
     "execution_count": 220,
     "metadata": {},
     "output_type": "execute_result"
    }
   ],
   "source": [
    "ins.head()"
   ]
  },
  {
   "cell_type": "code",
   "execution_count": 289,
   "metadata": {},
   "outputs": [
    {
     "data": {
      "text/plain": [
       "<matplotlib.axes._subplots.AxesSubplot at 0x24239c57278>"
      ]
     },
     "execution_count": 289,
     "metadata": {},
     "output_type": "execute_result"
    },
    {
     "data": {
      "image/png": "[encoded data removed]",
      "text/plain": [
       "<Figure size 432x288 with 1 Axes>"
      ]
     },
     "metadata": {},
     "output_type": "display_data"
    }
   ],
   "source": [
    "sns.boxplot(x=\"smoker\",y=\"charges\",data=ins)"
   ]
  },
  {
   "cell_type": "code",
   "execution_count": 221,
   "metadata": {},
   "outputs": [],
   "source": [
    "newins=pd.get_dummies(ins)"
   ]
  },
  {
   "cell_type": "code",
   "execution_count": 223,
   "metadata": {},
   "outputs": [
    {
     "data": {
      "text/html": [
       "<div>\n",
       "<style scoped>\n",
       "    .dataframe tbody tr th:only-of-type {\n",
       "        vertical-align: middle;\n",
       "    }\n",
       "\n",
       "    .dataframe tbody tr th {\n",
       "        vertical-align: top;\n",
       "    }\n",
       "\n",
       "    .dataframe thead th {\n",
       "        text-align: right;\n",
       "    }\n",
       "</style>\n",
       "<table border=\"1\" class=\"dataframe\">\n",
       "  <thead>\n",
       "    <tr style=\"text-align: right;\">\n",
       "      <th></th>\n",
       "      <th>age</th>\n",
       "      <th>bmi</th>\n",
       "      <th>children</th>\n",
       "      <th>charges</th>\n",
       "      <th>sex_female</th>\n",
       "      <th>sex_male</th>\n",
       "      <th>smoker_no</th>\n",
       "      <th>smoker_yes</th>\n",
       "      <th>region_northeast</th>\n",
       "      <th>region_northwest</th>\n",
       "      <th>region_southeast</th>\n",
       "      <th>region_southwest</th>\n",
       "    </tr>\n",
       "  </thead>\n",
       "  <tbody>\n",
       "    <tr>\n",
       "      <th>0</th>\n",
       "      <td>19</td>\n",
       "      <td>27.900</td>\n",
       "      <td>0</td>\n",
       "      <td>16884.92400</td>\n",
       "      <td>1</td>\n",
       "      <td>0</td>\n",
       "      <td>0</td>\n",
       "      <td>1</td>\n",
       "      <td>0</td>\n",
       "      <td>0</td>\n",
       "      <td>0</td>\n",
       "      <td>1</td>\n",
       "    </tr>\n",
       "    <tr>\n",
       "      <th>1</th>\n",
       "      <td>18</td>\n",
       "      <td>33.770</td>\n",
       "      <td>1</td>\n",
       "      <td>1725.55230</td>\n",
       "      <td>0</td>\n",
       "      <td>1</td>\n",
       "      <td>1</td>\n",
       "      <td>0</td>\n",
       "      <td>0</td>\n",
       "      <td>0</td>\n",
       "      <td>1</td>\n",
       "      <td>0</td>\n",
       "    </tr>\n",
       "    <tr>\n",
       "      <th>2</th>\n",
       "      <td>28</td>\n",
       "      <td>33.000</td>\n",
       "      <td>3</td>\n",
       "      <td>4449.46200</td>\n",
       "      <td>0</td>\n",
       "      <td>1</td>\n",
       "      <td>1</td>\n",
       "      <td>0</td>\n",
       "      <td>0</td>\n",
       "      <td>0</td>\n",
       "      <td>1</td>\n",
       "      <td>0</td>\n",
       "    </tr>\n",
       "    <tr>\n",
       "      <th>3</th>\n",
       "      <td>33</td>\n",
       "      <td>22.705</td>\n",
       "      <td>0</td>\n",
       "      <td>21984.47061</td>\n",
       "      <td>0</td>\n",
       "      <td>1</td>\n",
       "      <td>1</td>\n",
       "      <td>0</td>\n",
       "      <td>0</td>\n",
       "      <td>1</td>\n",
       "      <td>0</td>\n",
       "      <td>0</td>\n",
       "    </tr>\n",
       "    <tr>\n",
       "      <th>4</th>\n",
       "      <td>32</td>\n",
       "      <td>28.880</td>\n",
       "      <td>0</td>\n",
       "      <td>3866.85520</td>\n",
       "      <td>0</td>\n",
       "      <td>1</td>\n",
       "      <td>1</td>\n",
       "      <td>0</td>\n",
       "      <td>0</td>\n",
       "      <td>1</td>\n",
       "      <td>0</td>\n",
       "      <td>0</td>\n",
       "    </tr>\n",
       "  </tbody>\n",
       "</table>\n",
       "</div>"
      ],
      "text/plain": [
       "   age     bmi  children      charges  sex_female  sex_male  smoker_no  \\\n",
       "0   19  27.900         0  16884.92400           1         0          0   \n",
       "1   18  33.770         1   1725.55230           0         1          1   \n",
       "2   28  33.000         3   4449.46200           0         1          1   \n",
       "3   33  22.705         0  21984.47061           0         1          1   \n",
       "4   32  28.880         0   3866.85520           0         1          1   \n",
       "\n",
       "   smoker_yes  region_northeast  region_northwest  region_southeast  \\\n",
       "0           1                 0                 0                 0   \n",
       "1           0                 0                 0                 1   \n",
       "2           0                 0                 0                 1   \n",
       "3           0                 0                 1                 0   \n",
       "4           0                 0                 1                 0   \n",
       "\n",
       "   region_southwest  \n",
       "0                 1  \n",
       "1                 0  \n",
       "2                 0  \n",
       "3                 0  \n",
       "4                 0  "
      ]
     },
     "execution_count": 223,
     "metadata": {},
     "output_type": "execute_result"
    }
   ],
   "source": [
    "newins.head()"
   ]
  },
  {
   "cell_type": "code",
   "execution_count": 260,
   "metadata": {},
   "outputs": [],
   "source": [
    "x=newins.drop(\"charges\",axis=1)\n",
    "x=sm.add_constant(x)\n",
    "y=newins.charges\n",
    "insmodel=sm.OLS(y,x).fit()\n",
    "inspredict=insmodel.predict(x)"
   ]
  },
  {
   "cell_type": "code",
   "execution_count": 293,
   "metadata": {},
   "outputs": [],
   "source": [
    "insfitted=insmodel.fittedvalues\n",
    "insresi=insmodel.resid\n",
    "ins_st_residual=insmodel.get_influence().resid_studentized_internal"
   ]
  },
  {
   "cell_type": "code",
   "execution_count": 286,
   "metadata": {},
   "outputs": [],
   "source": []
  },
  {
   "cell_type": "code",
   "execution_count": 230,
   "metadata": {},
   "outputs": [
    {
     "data": {
      "text/plain": [
       "0.7509130345985207"
      ]
     },
     "execution_count": 230,
     "metadata": {},
     "output_type": "execute_result"
    }
   ],
   "source": [
    "insmodel.rsquared"
   ]
  },
  {
   "cell_type": "code",
   "execution_count": 247,
   "metadata": {},
   "outputs": [
    {
     "data": {
      "image/png": "[encoded data removed]",
      "text/plain": [
       "<Figure size 432x288 with 1 Axes>"
      ]
     },
     "metadata": {},
     "output_type": "display_data"
    }
   ],
   "source": [
    "sns.set(style=\"whitegrid\")\n",
    "ax=sns.residplot(insfitted,insresi,color='r',lowess=True)\n",
    "ax.set(xlabel=\"fitted values\", ylabel=\"residuals\",title=\"Residual Plot\")\n",
    "plt.show()"
   ]
  },
  {
   "cell_type": "code",
   "execution_count": 232,
   "metadata": {},
   "outputs": [
    {
     "data": {
      "image/png": "[encoded data removed]",
      "text/plain": [
       "<Figure size 432x288 with 1 Axes>"
      ]
     },
     "metadata": {},
     "output_type": "display_data"
    }
   ],
   "source": [
    "stats.probplot(ins_st_residual,dist=\"norm\",plot=pylab)\n",
    "plt.show()"
   ]
  },
  {
   "cell_type": "code",
   "execution_count": 234,
   "metadata": {},
   "outputs": [],
   "source": [
    "test= shapiro(insresi)"
   ]
  },
  {
   "cell_type": "code",
   "execution_count": 235,
   "metadata": {},
   "outputs": [
    {
     "name": "stdout",
     "output_type": "stream",
     "text": [
      "Reject null hypothesis\n"
     ]
    }
   ],
   "source": [
    "if test[1]<0.05:\n",
    "    print(\"Reject null hypothesis\")\n",
    "else:\n",
    "    print(\"Fail to reject null hypothesis\")"
   ]
  },
  {
   "cell_type": "code",
   "execution_count": 237,
   "metadata": {},
   "outputs": [
    {
     "data": {
      "text/html": [
       "<div>\n",
       "<style scoped>\n",
       "    .dataframe tbody tr th:only-of-type {\n",
       "        vertical-align: middle;\n",
       "    }\n",
       "\n",
       "    .dataframe tbody tr th {\n",
       "        vertical-align: top;\n",
       "    }\n",
       "\n",
       "    .dataframe thead th {\n",
       "        text-align: right;\n",
       "    }\n",
       "</style>\n",
       "<table border=\"1\" class=\"dataframe\">\n",
       "  <thead>\n",
       "    <tr style=\"text-align: right;\">\n",
       "      <th></th>\n",
       "      <th>VIF Values</th>\n",
       "    </tr>\n",
       "  </thead>\n",
       "  <tbody>\n",
       "    <tr>\n",
       "      <th>0</th>\n",
       "      <td>0.000000</td>\n",
       "    </tr>\n",
       "    <tr>\n",
       "      <th>1</th>\n",
       "      <td>1.016822</td>\n",
       "    </tr>\n",
       "    <tr>\n",
       "      <th>2</th>\n",
       "      <td>1.106630</td>\n",
       "    </tr>\n",
       "    <tr>\n",
       "      <th>3</th>\n",
       "      <td>1.004011</td>\n",
       "    </tr>\n",
       "    <tr>\n",
       "      <th>4</th>\n",
       "      <td>inf</td>\n",
       "    </tr>\n",
       "    <tr>\n",
       "      <th>5</th>\n",
       "      <td>inf</td>\n",
       "    </tr>\n",
       "    <tr>\n",
       "      <th>6</th>\n",
       "      <td>inf</td>\n",
       "    </tr>\n",
       "    <tr>\n",
       "      <th>7</th>\n",
       "      <td>inf</td>\n",
       "    </tr>\n",
       "    <tr>\n",
       "      <th>8</th>\n",
       "      <td>inf</td>\n",
       "    </tr>\n",
       "    <tr>\n",
       "      <th>9</th>\n",
       "      <td>inf</td>\n",
       "    </tr>\n",
       "    <tr>\n",
       "      <th>10</th>\n",
       "      <td>inf</td>\n",
       "    </tr>\n",
       "    <tr>\n",
       "      <th>11</th>\n",
       "      <td>inf</td>\n",
       "    </tr>\n",
       "  </tbody>\n",
       "</table>\n",
       "</div>"
      ],
      "text/plain": [
       "    VIF Values\n",
       "0     0.000000\n",
       "1     1.016822\n",
       "2     1.106630\n",
       "3     1.004011\n",
       "4          inf\n",
       "5          inf\n",
       "6          inf\n",
       "7          inf\n",
       "8          inf\n",
       "9          inf\n",
       "10         inf\n",
       "11         inf"
      ]
     },
     "execution_count": 237,
     "metadata": {},
     "output_type": "execute_result"
    }
   ],
   "source": [
    "vif=pd.DataFrame()\n",
    "vif[\"VIF Values\"]=[variance_inflation_factor(x.values,j) for j in range(0,x.shape[1])]\n",
    "vif"
   ]
  },
  {
   "cell_type": "code",
   "execution_count": 240,
   "metadata": {},
   "outputs": [
    {
     "data": {
      "image/png": "[encoded data removed]",
      "text/plain": [
       "<Figure size 432x288 with 1 Axes>"
      ]
     },
     "metadata": {},
     "output_type": "display_data"
    }
   ],
   "source": [
    "yaxis=np.sqrt(np.abs(ins_st_residual))\n",
    "ax=sns.residplot(insfitted,yaxis,color='b',lowess=True)\n",
    "ax.set(xlabel=\"fitted values\", ylabel=\"Sqrt(Standardized residuals)\",title=\"Scale Location Plot\")\n",
    "plt.show()"
   ]
  },
  {
   "cell_type": "markdown",
   "metadata": {},
   "source": [
    "Adjusted Rsquared will be slightly less than the rsquared\n",
    "Always consider adjusted rsquared instead of rsquared\n"
   ]
  },
  {
   "cell_type": "code",
   "execution_count": 241,
   "metadata": {},
   "outputs": [],
   "source": [
    "adjinsrsq=insmodel.rsquared_adj"
   ]
  },
  {
   "cell_type": "code",
   "execution_count": 242,
   "metadata": {},
   "outputs": [
    {
     "data": {
      "text/plain": [
       "0.7494136397729286"
      ]
     },
     "execution_count": 242,
     "metadata": {},
     "output_type": "execute_result"
    }
   ],
   "source": [
    "adjinsrsq"
   ]
  },
  {
   "cell_type": "markdown",
   "metadata": {},
   "source": [
    "# polynomial transformation"
   ]
  },
  {
   "cell_type": "code",
   "execution_count": 261,
   "metadata": {},
   "outputs": [],
   "source": [
    "from sklearn.preprocessing import PolynomialFeatures"
   ]
  },
  {
   "cell_type": "code",
   "execution_count": 262,
   "metadata": {},
   "outputs": [],
   "source": [
    "pf=PolynomialFeatures()"
   ]
  },
  {
   "cell_type": "code",
   "execution_count": 263,
   "metadata": {},
   "outputs": [],
   "source": [
    "x=pf.fit_transform(x)\n",
    "#We can run it only twice Since it is polynomial"
   ]
  },
  {
   "cell_type": "code",
   "execution_count": 294,
   "metadata": {},
   "outputs": [],
   "source": [
    "insmodel=sm.OLS(y,x).fit()\n",
    "inspredict=insmodel.predict(x)\n",
    "insfitted=insmodel.fittedvalues\n",
    "insresi=insmodel.resid\n",
    "ins_st_residual=insmodel.get_influence().resid_studentized_internal"
   ]
  },
  {
   "cell_type": "code",
   "execution_count": 295,
   "metadata": {},
   "outputs": [
    {
     "name": "stdout",
     "output_type": "stream",
     "text": [
      "0.8477668880499397\n",
      "0.8435544422158104\n"
     ]
    }
   ],
   "source": [
    "print(insmodel.rsquared)\n",
    "print(insmodel.rsquared_adj)"
   ]
  },
  {
   "cell_type": "code",
   "execution_count": 296,
   "metadata": {},
   "outputs": [],
   "source": [
    "from sklearn.metrics import mean_absolute_error,mean_squared_error"
   ]
  },
  {
   "cell_type": "code",
   "execution_count": 297,
   "metadata": {},
   "outputs": [
    {
     "data": {
      "text/plain": [
       "2834.6434107181417"
      ]
     },
     "execution_count": 297,
     "metadata": {},
     "output_type": "execute_result"
    }
   ],
   "source": [
    "mean_absolute_error(y,inspredict)"
   ]
  },
  {
   "cell_type": "code",
   "execution_count": 298,
   "metadata": {},
   "outputs": [
    {
     "data": {
      "text/plain": [
       "4723.20456650819"
      ]
     },
     "execution_count": 298,
     "metadata": {},
     "output_type": "execute_result"
    }
   ],
   "source": [
    "np.sqrt(mean_squared_error(y, inspredict))"
   ]
  },
  {
   "cell_type": "code",
   "execution_count": 299,
   "metadata": {},
   "outputs": [
    {
     "data": {
      "text/plain": [
       "13270.422265141257"
      ]
     },
     "execution_count": 299,
     "metadata": {},
     "output_type": "execute_result"
    }
   ],
   "source": [
    "y.mean()"
   ]
  },
  {
   "cell_type": "code",
   "execution_count": null,
   "metadata": {},
   "outputs": [],
   "source": []
  },
  {
   "cell_type": "markdown",
   "metadata": {},
   "source": [
    "Rainbow test - Linearity test"
   ]
  },
  {
   "cell_type": "code",
   "execution_count": 300,
   "metadata": {},
   "outputs": [],
   "source": [
    "from statsmodels.stats.api import linear_rainbow,het_goldfeldquandt"
   ]
  },
  {
   "cell_type": "code",
   "execution_count": 301,
   "metadata": {},
   "outputs": [
    {
     "data": {
      "text/plain": [
       "(1.1597065480197823, 0.029709905119474158)"
      ]
     },
     "execution_count": 301,
     "metadata": {},
     "output_type": "execute_result"
    }
   ],
   "source": [
    "linear_rainbow(insmodel)"
   ]
  },
  {
   "cell_type": "code",
   "execution_count": 1,
   "metadata": {},
   "outputs": [],
   "source": [
    "#the first value is statistic value and the second value is p value. \n",
    "#If the statistic value is grater than the p value then the data is linear"
   ]
  },
  {
   "cell_type": "code",
   "execution_count": 302,
   "metadata": {},
   "outputs": [
    {
     "data": {
      "text/plain": [
       "(0.6704614162445068, 4.203895392974451e-45)"
      ]
     },
     "execution_count": 302,
     "metadata": {},
     "output_type": "execute_result"
    }
   ],
   "source": [
    "shapiro(insresi)"
   ]
  },
  {
   "cell_type": "code",
   "execution_count": 2,
   "metadata": {},
   "outputs": [],
   "source": [
    "#the second value is the p value which should be less than 0.05, we will fail to reject null hypothesis\n",
    "#which says the data is normal"
   ]
  },
  {
   "cell_type": "markdown",
   "metadata": {},
   "source": [
    "Test of Heteroscedasticity \n",
    "- Null hypothesis - The data is HOMOSCEDASTIC\n",
    "- Alternate hypothesis - Data is HETEROSCEDASTIC"
   ]
  },
  {
   "cell_type": "code",
   "execution_count": 303,
   "metadata": {},
   "outputs": [
    {
     "data": {
      "text/plain": [
       "(0.9680976334613438, 0.6581327320216659, 'increasing')"
      ]
     },
     "execution_count": 303,
     "metadata": {},
     "output_type": "execute_result"
    }
   ],
   "source": [
    "het_goldfeldquandt(y,insmodel.model.exog) #This takes the values from the model\n",
    "het_goldfeldquandt(y,x)"
   ]
  },
  {
   "cell_type": "code",
   "execution_count": 3,
   "metadata": {},
   "outputs": [],
   "source": [
    "#the p value must be less than stats value, increasing must the output\n",
    "#then the data doesnot have heteroscedasi..."
   ]
  },
  {
   "cell_type": "code",
   "execution_count": 306,
   "metadata": {},
   "outputs": [
    {
     "data": {
      "text/plain": [
       "<matplotlib.axes._subplots.AxesSubplot at 0x242399b9898>"
      ]
     },
     "execution_count": 306,
     "metadata": {},
     "output_type": "execute_result"
    },
    {
     "data": {
      "image/png": "[encoded data removed]",
      "text/plain": [
       "<Figure size 432x288 with 1 Axes>"
      ]
     },
     "metadata": {},
     "output_type": "display_data"
    }
   ],
   "source": [
    "sns.residplot(insfitted, np.sqrt(np.abs(ins_st_residual)), lowess=True, color=\"green\") #in this test we pass in fitted values\n",
    "# and st residual is after polynomial transformation"
   ]
  },
  {
   "cell_type": "code",
   "execution_count": 307,
   "metadata": {},
   "outputs": [
    {
     "name": "stderr",
     "output_type": "stream",
     "text": [
      "C:\\Users\\Sebastian john\\Anaconda3\\lib\\site-packages\\statsmodels\\base\\model.py:1100: RuntimeWarning: invalid value encountered in true_divide\n",
      "  return self.params / self.bse\n",
      "C:\\Users\\Sebastian john\\Anaconda3\\lib\\site-packages\\scipy\\stats\\_distn_infrastructure.py:879: RuntimeWarning: invalid value encountered in greater\n",
      "  return (self.a < x) & (x < self.b)\n",
      "C:\\Users\\Sebastian john\\Anaconda3\\lib\\site-packages\\scipy\\stats\\_distn_infrastructure.py:879: RuntimeWarning: invalid value encountered in less\n",
      "  return (self.a < x) & (x < self.b)\n",
      "C:\\Users\\Sebastian john\\Anaconda3\\lib\\site-packages\\scipy\\stats\\_distn_infrastructure.py:1821: RuntimeWarning: invalid value encountered in less_equal\n",
      "  cond2 = cond0 & (x <= self.a)\n"
     ]
    },
    {
     "data": {
      "text/html": [
       "<table class=\"simpletable\">\n",
       "<caption>OLS Regression Results</caption>\n",
       "<tr>\n",
       "  <th>Dep. Variable:</th>         <td>charges</td>     <th>  R-squared:         </th> <td>   0.848</td> \n",
       "</tr>\n",
       "<tr>\n",
       "  <th>Model:</th>                   <td>OLS</td>       <th>  Adj. R-squared:    </th> <td>   0.844</td> \n",
       "</tr>\n",
       "<tr>\n",
       "  <th>Method:</th>             <td>Least Squares</td>  <th>  F-statistic:       </th> <td>   201.3</td> \n",
       "</tr>\n",
       "<tr>\n",
       "  <th>Date:</th>             <td>Wed, 06 Mar 2019</td> <th>  Prob (F-statistic):</th>  <td>  0.00</td>  \n",
       "</tr>\n",
       "<tr>\n",
       "  <th>Time:</th>                 <td>14:47:47</td>     <th>  Log-Likelihood:    </th> <td> -13218.</td> \n",
       "</tr>\n",
       "<tr>\n",
       "  <th>No. Observations:</th>      <td>  1338</td>      <th>  AIC:               </th> <td>2.651e+04</td>\n",
       "</tr>\n",
       "<tr>\n",
       "  <th>Df Residuals:</th>          <td>  1301</td>      <th>  BIC:               </th> <td>2.670e+04</td>\n",
       "</tr>\n",
       "<tr>\n",
       "  <th>Df Model:</th>              <td>    36</td>      <th>                     </th>     <td> </td>    \n",
       "</tr>\n",
       "<tr>\n",
       "  <th>Covariance Type:</th>      <td>nonrobust</td>    <th>                     </th>     <td> </td>    \n",
       "</tr>\n",
       "</table>\n",
       "<table class=\"simpletable\">\n",
       "<tr>\n",
       "    <td></td>       <th>coef</th>     <th>std err</th>      <th>t</th>      <th>P>|t|</th>  <th>[0.025</th>    <th>0.975]</th>  \n",
       "</tr>\n",
       "<tr>\n",
       "  <th>const</th> <td>-1866.0142</td> <td>  481.152</td> <td>   -3.878</td> <td> 0.000</td> <td>-2809.933</td> <td> -922.095</td>\n",
       "</tr>\n",
       "<tr>\n",
       "  <th>x1</th>    <td>-1866.0142</td> <td>  481.152</td> <td>   -3.878</td> <td> 0.000</td> <td>-2809.933</td> <td> -922.095</td>\n",
       "</tr>\n",
       "<tr>\n",
       "  <th>x2</th>    <td>  -21.9858</td> <td>   24.382</td> <td>   -0.902</td> <td> 0.367</td> <td>  -69.818</td> <td>   25.846</td>\n",
       "</tr>\n",
       "<tr>\n",
       "  <th>x3</th>    <td>  346.8260</td> <td>   58.566</td> <td>    5.922</td> <td> 0.000</td> <td>  231.931</td> <td>  461.721</td>\n",
       "</tr>\n",
       "<tr>\n",
       "  <th>x4</th>    <td>  305.4747</td> <td>  220.386</td> <td>    1.386</td> <td> 0.166</td> <td> -126.875</td> <td>  737.825</td>\n",
       "</tr>\n",
       "<tr>\n",
       "  <th>x5</th>    <td> -770.7314</td> <td>  315.597</td> <td>   -2.442</td> <td> 0.015</td> <td>-1389.867</td> <td> -151.596</td>\n",
       "</tr>\n",
       "<tr>\n",
       "  <th>x6</th>    <td>-1095.2828</td> <td>  318.330</td> <td>   -3.441</td> <td> 0.001</td> <td>-1719.780</td> <td> -470.786</td>\n",
       "</tr>\n",
       "<tr>\n",
       "  <th>x7</th>    <td> 1835.2829</td> <td>  322.932</td> <td>    5.683</td> <td> 0.000</td> <td> 1201.759</td> <td> 2468.807</td>\n",
       "</tr>\n",
       "<tr>\n",
       "  <th>x8</th>    <td>-3701.2971</td> <td>  377.120</td> <td>   -9.815</td> <td> 0.000</td> <td>-4441.127</td> <td>-2961.467</td>\n",
       "</tr>\n",
       "<tr>\n",
       "  <th>x9</th>    <td> -437.5163</td> <td>  329.499</td> <td>   -1.328</td> <td> 0.184</td> <td>-1083.924</td> <td>  208.891</td>\n",
       "</tr>\n",
       "<tr>\n",
       "  <th>x10</th>   <td> -780.9347</td> <td>  363.992</td> <td>   -2.145</td> <td> 0.032</td> <td>-1495.010</td> <td>  -66.859</td>\n",
       "</tr>\n",
       "<tr>\n",
       "  <th>x11</th>   <td> -186.7222</td> <td>  413.651</td> <td>   -0.451</td> <td> 0.652</td> <td> -998.219</td> <td>  624.774</td>\n",
       "</tr>\n",
       "<tr>\n",
       "  <th>x12</th>   <td> -460.8410</td> <td>  360.182</td> <td>   -1.279</td> <td> 0.201</td> <td>-1167.441</td> <td>  245.759</td>\n",
       "</tr>\n",
       "<tr>\n",
       "  <th>x13</th>   <td>-1866.0142</td> <td>  481.152</td> <td>   -3.878</td> <td> 0.000</td> <td>-2809.933</td> <td> -922.095</td>\n",
       "</tr>\n",
       "<tr>\n",
       "  <th>x14</th>   <td>  -21.9858</td> <td>   24.382</td> <td>   -0.902</td> <td> 0.367</td> <td>  -69.818</td> <td>   25.846</td>\n",
       "</tr>\n",
       "<tr>\n",
       "  <th>x15</th>   <td>  346.8260</td> <td>   58.566</td> <td>    5.922</td> <td> 0.000</td> <td>  231.931</td> <td>  461.721</td>\n",
       "</tr>\n",
       "<tr>\n",
       "  <th>x16</th>   <td>  305.4747</td> <td>  220.386</td> <td>    1.386</td> <td> 0.166</td> <td> -126.875</td> <td>  737.825</td>\n",
       "</tr>\n",
       "<tr>\n",
       "  <th>x17</th>   <td> -770.7314</td> <td>  315.597</td> <td>   -2.442</td> <td> 0.015</td> <td>-1389.867</td> <td> -151.596</td>\n",
       "</tr>\n",
       "<tr>\n",
       "  <th>x18</th>   <td>-1095.2828</td> <td>  318.330</td> <td>   -3.441</td> <td> 0.001</td> <td>-1719.780</td> <td> -470.786</td>\n",
       "</tr>\n",
       "<tr>\n",
       "  <th>x19</th>   <td> 1835.2829</td> <td>  322.932</td> <td>    5.683</td> <td> 0.000</td> <td> 1201.759</td> <td> 2468.807</td>\n",
       "</tr>\n",
       "<tr>\n",
       "  <th>x20</th>   <td>-3701.2971</td> <td>  377.120</td> <td>   -9.815</td> <td> 0.000</td> <td>-4441.127</td> <td>-2961.467</td>\n",
       "</tr>\n",
       "<tr>\n",
       "  <th>x21</th>   <td> -437.5163</td> <td>  329.499</td> <td>   -1.328</td> <td> 0.184</td> <td>-1083.924</td> <td>  208.891</td>\n",
       "</tr>\n",
       "<tr>\n",
       "  <th>x22</th>   <td> -780.9347</td> <td>  363.992</td> <td>   -2.145</td> <td> 0.032</td> <td>-1495.010</td> <td>  -66.859</td>\n",
       "</tr>\n",
       "<tr>\n",
       "  <th>x23</th>   <td> -186.7222</td> <td>  413.651</td> <td>   -0.451</td> <td> 0.652</td> <td> -998.219</td> <td>  624.774</td>\n",
       "</tr>\n",
       "<tr>\n",
       "  <th>x24</th>   <td> -460.8410</td> <td>  360.182</td> <td>   -1.279</td> <td> 0.201</td> <td>-1167.441</td> <td>  245.759</td>\n",
       "</tr>\n",
       "<tr>\n",
       "  <th>x25</th>   <td>    3.9599</td> <td>    0.826</td> <td>    4.795</td> <td> 0.000</td> <td>    2.340</td> <td>    5.580</td>\n",
       "</tr>\n",
       "<tr>\n",
       "  <th>x26</th>   <td>    0.6641</td> <td>    1.638</td> <td>    0.405</td> <td> 0.685</td> <td>   -2.549</td> <td>    3.877</td>\n",
       "</tr>\n",
       "<tr>\n",
       "  <th>x27</th>   <td>   -4.6001</td> <td>    8.544</td> <td>   -0.538</td> <td> 0.590</td> <td>  -21.361</td> <td>   12.161</td>\n",
       "</tr>\n",
       "<tr>\n",
       "  <th>x28</th>   <td>  -20.2257</td> <td>   15.501</td> <td>   -1.305</td> <td> 0.192</td> <td>  -50.636</td> <td>   10.185</td>\n",
       "</tr>\n",
       "<tr>\n",
       "  <th>x29</th>   <td>   -1.7601</td> <td>   15.400</td> <td>   -0.114</td> <td> 0.909</td> <td>  -31.971</td> <td>   28.451</td>\n",
       "</tr>\n",
       "<tr>\n",
       "  <th>x30</th>   <td>   -8.4917</td> <td>   16.168</td> <td>   -0.525</td> <td> 0.600</td> <td>  -40.209</td> <td>   23.226</td>\n",
       "</tr>\n",
       "<tr>\n",
       "  <th>x31</th>   <td>  -13.4941</td> <td>   17.848</td> <td>   -0.756</td> <td> 0.450</td> <td>  -48.507</td> <td>   21.519</td>\n",
       "</tr>\n",
       "<tr>\n",
       "  <th>x32</th>   <td>  -34.6831</td> <td>   17.335</td> <td>   -2.001</td> <td> 0.046</td> <td>  -68.692</td> <td>   -0.675</td>\n",
       "</tr>\n",
       "<tr>\n",
       "  <th>x33</th>   <td>  -16.9600</td> <td>   17.437</td> <td>   -0.973</td> <td> 0.331</td> <td>  -51.167</td> <td>   17.247</td>\n",
       "</tr>\n",
       "<tr>\n",
       "  <th>x34</th>   <td>   18.5059</td> <td>   18.447</td> <td>    1.003</td> <td> 0.316</td> <td>  -17.683</td> <td>   54.695</td>\n",
       "</tr>\n",
       "<tr>\n",
       "  <th>x35</th>   <td>   11.1514</td> <td>   18.086</td> <td>    0.617</td> <td> 0.538</td> <td>  -24.330</td> <td>   46.633</td>\n",
       "</tr>\n",
       "<tr>\n",
       "  <th>x36</th>   <td>   -6.3206</td> <td>    2.964</td> <td>   -2.132</td> <td> 0.033</td> <td>  -12.136</td> <td>   -0.505</td>\n",
       "</tr>\n",
       "<tr>\n",
       "  <th>x37</th>   <td>    2.8706</td> <td>   19.033</td> <td>    0.151</td> <td> 0.880</td> <td>  -34.467</td> <td>   40.208</td>\n",
       "</tr>\n",
       "<tr>\n",
       "  <th>x38</th>   <td>  170.0756</td> <td>   36.931</td> <td>    4.605</td> <td> 0.000</td> <td>   97.626</td> <td>  242.526</td>\n",
       "</tr>\n",
       "<tr>\n",
       "  <th>x39</th>   <td>  176.7505</td> <td>   37.512</td> <td>    4.712</td> <td> 0.000</td> <td>  103.159</td> <td>  250.342</td>\n",
       "</tr>\n",
       "<tr>\n",
       "  <th>x40</th>   <td> -565.6076</td> <td>   39.405</td> <td>  -14.354</td> <td> 0.000</td> <td> -642.912</td> <td> -488.303</td>\n",
       "</tr>\n",
       "<tr>\n",
       "  <th>x41</th>   <td>  912.4337</td> <td>   41.611</td> <td>   21.928</td> <td> 0.000</td> <td>  830.801</td> <td>  994.066</td>\n",
       "</tr>\n",
       "<tr>\n",
       "  <th>x42</th>   <td>  143.6736</td> <td>   40.658</td> <td>    3.534</td> <td> 0.000</td> <td>   63.912</td> <td>  223.435</td>\n",
       "</tr>\n",
       "<tr>\n",
       "  <th>x43</th>   <td>  130.4689</td> <td>   44.682</td> <td>    2.920</td> <td> 0.004</td> <td>   42.813</td> <td>  218.125</td>\n",
       "</tr>\n",
       "<tr>\n",
       "  <th>x44</th>   <td>    5.6804</td> <td>   48.012</td> <td>    0.118</td> <td> 0.906</td> <td>  -88.509</td> <td>   99.870</td>\n",
       "</tr>\n",
       "<tr>\n",
       "  <th>x45</th>   <td>   67.0031</td> <td>   44.257</td> <td>    1.514</td> <td> 0.130</td> <td>  -19.820</td> <td>  153.826</td>\n",
       "</tr>\n",
       "<tr>\n",
       "  <th>x46</th>   <td>  -97.8090</td> <td>   82.682</td> <td>   -1.183</td> <td> 0.237</td> <td> -260.013</td> <td>   64.395</td>\n",
       "</tr>\n",
       "<tr>\n",
       "  <th>x47</th>   <td>  262.2523</td> <td>  157.290</td> <td>    1.667</td> <td> 0.096</td> <td>  -46.318</td> <td>  570.823</td>\n",
       "</tr>\n",
       "<tr>\n",
       "  <th>x48</th>   <td>   43.2225</td> <td>  155.443</td> <td>    0.278</td> <td> 0.781</td> <td> -261.725</td> <td>  348.170</td>\n",
       "</tr>\n",
       "<tr>\n",
       "  <th>x49</th>   <td>  346.5494</td> <td>  180.307</td> <td>    1.922</td> <td> 0.055</td> <td>   -7.174</td> <td>  700.273</td>\n",
       "</tr>\n",
       "<tr>\n",
       "  <th>x50</th>   <td>  -41.0747</td> <td>  182.406</td> <td>   -0.225</td> <td> 0.822</td> <td> -398.918</td> <td>  316.768</td>\n",
       "</tr>\n",
       "<tr>\n",
       "  <th>x51</th>   <td>  174.5871</td> <td>  196.003</td> <td>    0.891</td> <td> 0.373</td> <td> -209.930</td> <td>  559.104</td>\n",
       "</tr>\n",
       "<tr>\n",
       "  <th>x52</th>   <td>  412.8897</td> <td>  200.937</td> <td>    2.055</td> <td> 0.040</td> <td>   18.694</td> <td>  807.085</td>\n",
       "</tr>\n",
       "<tr>\n",
       "  <th>x53</th>   <td>  -51.9469</td> <td>  213.796</td> <td>   -0.243</td> <td> 0.808</td> <td> -471.369</td> <td>  367.475</td>\n",
       "</tr>\n",
       "<tr>\n",
       "  <th>x54</th>   <td> -230.0552</td> <td>  194.553</td> <td>   -1.182</td> <td> 0.237</td> <td> -611.727</td> <td>  151.617</td>\n",
       "</tr>\n",
       "<tr>\n",
       "  <th>x55</th>   <td> -770.7314</td> <td>  315.597</td> <td>   -2.442</td> <td> 0.015</td> <td>-1389.867</td> <td> -151.596</td>\n",
       "</tr>\n",
       "<tr>\n",
       "  <th>x56</th>   <td>         0</td> <td>        0</td> <td>      nan</td> <td>   nan</td> <td>        0</td> <td>        0</td>\n",
       "</tr>\n",
       "<tr>\n",
       "  <th>x57</th>   <td>  978.1669</td> <td>  247.357</td> <td>    3.954</td> <td> 0.000</td> <td>  492.905</td> <td> 1463.429</td>\n",
       "</tr>\n",
       "<tr>\n",
       "  <th>x58</th>   <td>-1748.8983</td> <td>  266.374</td> <td>   -6.566</td> <td> 0.000</td> <td>-2271.467</td> <td>-1226.329</td>\n",
       "</tr>\n",
       "<tr>\n",
       "  <th>x59</th>   <td>    2.5641</td> <td>  287.473</td> <td>    0.009</td> <td> 0.993</td> <td> -561.398</td> <td>  566.526</td>\n",
       "</tr>\n",
       "<tr>\n",
       "  <th>x60</th>   <td> -374.3015</td> <td>  298.700</td> <td>   -1.253</td> <td> 0.210</td> <td> -960.288</td> <td>  211.685</td>\n",
       "</tr>\n",
       "<tr>\n",
       "  <th>x61</th>   <td> -234.2656</td> <td>  324.402</td> <td>   -0.722</td> <td> 0.470</td> <td> -870.673</td> <td>  402.142</td>\n",
       "</tr>\n",
       "<tr>\n",
       "  <th>x62</th>   <td> -164.7283</td> <td>  291.186</td> <td>   -0.566</td> <td> 0.572</td> <td> -735.974</td> <td>  406.517</td>\n",
       "</tr>\n",
       "<tr>\n",
       "  <th>x63</th>   <td>-1095.2828</td> <td>  318.330</td> <td>   -3.441</td> <td> 0.001</td> <td>-1719.780</td> <td> -470.786</td>\n",
       "</tr>\n",
       "<tr>\n",
       "  <th>x64</th>   <td>  857.1160</td> <td>  248.613</td> <td>    3.448</td> <td> 0.001</td> <td>  369.390</td> <td> 1344.842</td>\n",
       "</tr>\n",
       "<tr>\n",
       "  <th>x65</th>   <td>-1952.3988</td> <td>  292.271</td> <td>   -6.680</td> <td> 0.000</td> <td>-2525.772</td> <td>-1379.026</td>\n",
       "</tr>\n",
       "<tr>\n",
       "  <th>x66</th>   <td> -440.0803</td> <td>  284.505</td> <td>   -1.547</td> <td> 0.122</td> <td> -998.220</td> <td>  118.059</td>\n",
       "</tr>\n",
       "<tr>\n",
       "  <th>x67</th>   <td> -406.6332</td> <td>  293.602</td> <td>   -1.385</td> <td> 0.166</td> <td> -982.618</td> <td>  169.352</td>\n",
       "</tr>\n",
       "<tr>\n",
       "  <th>x68</th>   <td>   47.5434</td> <td>  321.906</td> <td>    0.148</td> <td> 0.883</td> <td> -583.968</td> <td>  679.055</td>\n",
       "</tr>\n",
       "<tr>\n",
       "  <th>x69</th>   <td> -296.1127</td> <td>  306.570</td> <td>   -0.966</td> <td> 0.334</td> <td> -897.539</td> <td>  305.314</td>\n",
       "</tr>\n",
       "<tr>\n",
       "  <th>x70</th>   <td> 1835.2829</td> <td>  322.932</td> <td>    5.683</td> <td> 0.000</td> <td> 1201.759</td> <td> 2468.807</td>\n",
       "</tr>\n",
       "<tr>\n",
       "  <th>x71</th>   <td>         0</td> <td>        0</td> <td>      nan</td> <td>   nan</td> <td>        0</td> <td>        0</td>\n",
       "</tr>\n",
       "<tr>\n",
       "  <th>x72</th>   <td>  391.6109</td> <td>  320.865</td> <td>    1.220</td> <td> 0.223</td> <td> -237.858</td> <td> 1021.080</td>\n",
       "</tr>\n",
       "<tr>\n",
       "  <th>x73</th>   <td>  403.9524</td> <td>  332.377</td> <td>    1.215</td> <td> 0.224</td> <td> -248.102</td> <td> 1056.006</td>\n",
       "</tr>\n",
       "<tr>\n",
       "  <th>x74</th>   <td> 1090.3967</td> <td>  357.004</td> <td>    3.054</td> <td> 0.002</td> <td>  390.029</td> <td> 1790.764</td>\n",
       "</tr>\n",
       "<tr>\n",
       "  <th>x75</th>   <td>  -50.6770</td> <td>  333.381</td> <td>   -0.152</td> <td> 0.879</td> <td> -704.701</td> <td>  603.347</td>\n",
       "</tr>\n",
       "<tr>\n",
       "  <th>x76</th>   <td>-3701.2971</td> <td>  377.120</td> <td>   -9.815</td> <td> 0.000</td> <td>-4441.127</td> <td>-2961.467</td>\n",
       "</tr>\n",
       "<tr>\n",
       "  <th>x77</th>   <td> -829.1272</td> <td>  344.675</td> <td>   -2.406</td> <td> 0.016</td> <td>-1505.306</td> <td> -152.948</td>\n",
       "</tr>\n",
       "<tr>\n",
       "  <th>x78</th>   <td>-1184.8871</td> <td>  373.961</td> <td>   -3.168</td> <td> 0.002</td> <td>-1918.519</td> <td> -451.255</td>\n",
       "</tr>\n",
       "<tr>\n",
       "  <th>x79</th>   <td>-1277.1189</td> <td>  367.740</td> <td>   -3.473</td> <td> 0.001</td> <td>-1998.547</td> <td> -555.691</td>\n",
       "</tr>\n",
       "<tr>\n",
       "  <th>x80</th>   <td> -410.1640</td> <td>  380.767</td> <td>   -1.077</td> <td> 0.282</td> <td>-1157.149</td> <td>  336.821</td>\n",
       "</tr>\n",
       "<tr>\n",
       "  <th>x81</th>   <td> -437.5163</td> <td>  329.499</td> <td>   -1.328</td> <td> 0.184</td> <td>-1083.924</td> <td>  208.891</td>\n",
       "</tr>\n",
       "<tr>\n",
       "  <th>x82</th>   <td>         0</td> <td>        0</td> <td>      nan</td> <td>   nan</td> <td>        0</td> <td>        0</td>\n",
       "</tr>\n",
       "<tr>\n",
       "  <th>x83</th>   <td>         0</td> <td>        0</td> <td>      nan</td> <td>   nan</td> <td>        0</td> <td>        0</td>\n",
       "</tr>\n",
       "<tr>\n",
       "  <th>x84</th>   <td>         0</td> <td>        0</td> <td>      nan</td> <td>   nan</td> <td>        0</td> <td>        0</td>\n",
       "</tr>\n",
       "<tr>\n",
       "  <th>x85</th>   <td> -780.9347</td> <td>  363.992</td> <td>   -2.145</td> <td> 0.032</td> <td>-1495.010</td> <td>  -66.859</td>\n",
       "</tr>\n",
       "<tr>\n",
       "  <th>x86</th>   <td>         0</td> <td>        0</td> <td>      nan</td> <td>   nan</td> <td>        0</td> <td>        0</td>\n",
       "</tr>\n",
       "<tr>\n",
       "  <th>x87</th>   <td>         0</td> <td>        0</td> <td>      nan</td> <td>   nan</td> <td>        0</td> <td>        0</td>\n",
       "</tr>\n",
       "<tr>\n",
       "  <th>x88</th>   <td> -186.7222</td> <td>  413.651</td> <td>   -0.451</td> <td> 0.652</td> <td> -998.219</td> <td>  624.774</td>\n",
       "</tr>\n",
       "<tr>\n",
       "  <th>x89</th>   <td>         0</td> <td>        0</td> <td>      nan</td> <td>   nan</td> <td>        0</td> <td>        0</td>\n",
       "</tr>\n",
       "<tr>\n",
       "  <th>x90</th>   <td> -460.8410</td> <td>  360.182</td> <td>   -1.279</td> <td> 0.201</td> <td>-1167.441</td> <td>  245.759</td>\n",
       "</tr>\n",
       "</table>\n",
       "<table class=\"simpletable\">\n",
       "<tr>\n",
       "  <th>Omnibus:</th>       <td>730.465</td> <th>  Durbin-Watson:     </th> <td>   2.061</td>\n",
       "</tr>\n",
       "<tr>\n",
       "  <th>Prob(Omnibus):</th> <td> 0.000</td>  <th>  Jarque-Bera (JB):  </th> <td>4683.701</td>\n",
       "</tr>\n",
       "<tr>\n",
       "  <th>Skew:</th>          <td> 2.551</td>  <th>  Prob(JB):          </th> <td>    0.00</td>\n",
       "</tr>\n",
       "<tr>\n",
       "  <th>Kurtosis:</th>      <td>10.614</td>  <th>  Cond. No.          </th> <td>2.23e+16</td>\n",
       "</tr>\n",
       "</table><br/><br/>Warnings:<br/>[1] Standard Errors assume that the covariance matrix of the errors is correctly specified.<br/>[2] The smallest eigenvalue is 1.82e-23. This might indicate that there are<br/>strong multicollinearity problems or that the design matrix is singular."
      ],
      "text/plain": [
       "<class 'statsmodels.iolib.summary.Summary'>\n",
       "\"\"\"\n",
       "                            OLS Regression Results                            \n",
       "==============================================================================\n",
       "Dep. Variable:                charges   R-squared:                       0.848\n",
       "Model:                            OLS   Adj. R-squared:                  0.844\n",
       "Method:                 Least Squares   F-statistic:                     201.3\n",
       "Date:                Wed, 06 Mar 2019   Prob (F-statistic):               0.00\n",
       "Time:                        14:47:47   Log-Likelihood:                -13218.\n",
       "No. Observations:                1338   AIC:                         2.651e+04\n",
       "Df Residuals:                    1301   BIC:                         2.670e+04\n",
       "Df Model:                          36                                         \n",
       "Covariance Type:            nonrobust                                         \n",
       "==============================================================================\n",
       "                 coef    std err          t      P>|t|      [0.025      0.975]\n",
       "------------------------------------------------------------------------------\n",
       "const      -1866.0142    481.152     -3.878      0.000   -2809.933    -922.095\n",
       "x1         -1866.0142    481.152     -3.878      0.000   -2809.933    -922.095\n",
       "x2           -21.9858     24.382     -0.902      0.367     -69.818      25.846\n",
       "x3           346.8260     58.566      5.922      0.000     231.931     461.721\n",
       "x4           305.4747    220.386      1.386      0.166    -126.875     737.825\n",
       "x5          -770.7314    315.597     -2.442      0.015   -1389.867    -151.596\n",
       "x6         -1095.2828    318.330     -3.441      0.001   -1719.780    -470.786\n",
       "x7          1835.2829    322.932      5.683      0.000    1201.759    2468.807\n",
       "x8         -3701.2971    377.120     -9.815      0.000   -4441.127   -2961.467\n",
       "x9          -437.5163    329.499     -1.328      0.184   -1083.924     208.891\n",
       "x10         -780.9347    363.992     -2.145      0.032   -1495.010     -66.859\n",
       "x11         -186.7222    413.651     -0.451      0.652    -998.219     624.774\n",
       "x12         -460.8410    360.182     -1.279      0.201   -1167.441     245.759\n",
       "x13        -1866.0142    481.152     -3.878      0.000   -2809.933    -922.095\n",
       "x14          -21.9858     24.382     -0.902      0.367     -69.818      25.846\n",
       "x15          346.8260     58.566      5.922      0.000     231.931     461.721\n",
       "x16          305.4747    220.386      1.386      0.166    -126.875     737.825\n",
       "x17         -770.7314    315.597     -2.442      0.015   -1389.867    -151.596\n",
       "x18        -1095.2828    318.330     -3.441      0.001   -1719.780    -470.786\n",
       "x19         1835.2829    322.932      5.683      0.000    1201.759    2468.807\n",
       "x20        -3701.2971    377.120     -9.815      0.000   -4441.127   -2961.467\n",
       "x21         -437.5163    329.499     -1.328      0.184   -1083.924     208.891\n",
       "x22         -780.9347    363.992     -2.145      0.032   -1495.010     -66.859\n",
       "x23         -186.7222    413.651     -0.451      0.652    -998.219     624.774\n",
       "x24         -460.8410    360.182     -1.279      0.201   -1167.441     245.759\n",
       "x25            3.9599      0.826      4.795      0.000       2.340       5.580\n",
       "x26            0.6641      1.638      0.405      0.685      -2.549       3.877\n",
       "x27           -4.6001      8.544     -0.538      0.590     -21.361      12.161\n",
       "x28          -20.2257     15.501     -1.305      0.192     -50.636      10.185\n",
       "x29           -1.7601     15.400     -0.114      0.909     -31.971      28.451\n",
       "x30           -8.4917     16.168     -0.525      0.600     -40.209      23.226\n",
       "x31          -13.4941     17.848     -0.756      0.450     -48.507      21.519\n",
       "x32          -34.6831     17.335     -2.001      0.046     -68.692      -0.675\n",
       "x33          -16.9600     17.437     -0.973      0.331     -51.167      17.247\n",
       "x34           18.5059     18.447      1.003      0.316     -17.683      54.695\n",
       "x35           11.1514     18.086      0.617      0.538     -24.330      46.633\n",
       "x36           -6.3206      2.964     -2.132      0.033     -12.136      -0.505\n",
       "x37            2.8706     19.033      0.151      0.880     -34.467      40.208\n",
       "x38          170.0756     36.931      4.605      0.000      97.626     242.526\n",
       "x39          176.7505     37.512      4.712      0.000     103.159     250.342\n",
       "x40         -565.6076     39.405    -14.354      0.000    -642.912    -488.303\n",
       "x41          912.4337     41.611     21.928      0.000     830.801     994.066\n",
       "x42          143.6736     40.658      3.534      0.000      63.912     223.435\n",
       "x43          130.4689     44.682      2.920      0.004      42.813     218.125\n",
       "x44            5.6804     48.012      0.118      0.906     -88.509      99.870\n",
       "x45           67.0031     44.257      1.514      0.130     -19.820     153.826\n",
       "x46          -97.8090     82.682     -1.183      0.237    -260.013      64.395\n",
       "x47          262.2523    157.290      1.667      0.096     -46.318     570.823\n",
       "x48           43.2225    155.443      0.278      0.781    -261.725     348.170\n",
       "x49          346.5494    180.307      1.922      0.055      -7.174     700.273\n",
       "x50          -41.0747    182.406     -0.225      0.822    -398.918     316.768\n",
       "x51          174.5871    196.003      0.891      0.373    -209.930     559.104\n",
       "x52          412.8897    200.937      2.055      0.040      18.694     807.085\n",
       "x53          -51.9469    213.796     -0.243      0.808    -471.369     367.475\n",
       "x54         -230.0552    194.553     -1.182      0.237    -611.727     151.617\n",
       "x55         -770.7314    315.597     -2.442      0.015   -1389.867    -151.596\n",
       "x56                 0          0        nan        nan           0           0\n",
       "x57          978.1669    247.357      3.954      0.000     492.905    1463.429\n",
       "x58        -1748.8983    266.374     -6.566      0.000   -2271.467   -1226.329\n",
       "x59            2.5641    287.473      0.009      0.993    -561.398     566.526\n",
       "x60         -374.3015    298.700     -1.253      0.210    -960.288     211.685\n",
       "x61         -234.2656    324.402     -0.722      0.470    -870.673     402.142\n",
       "x62         -164.7283    291.186     -0.566      0.572    -735.974     406.517\n",
       "x63        -1095.2828    318.330     -3.441      0.001   -1719.780    -470.786\n",
       "x64          857.1160    248.613      3.448      0.001     369.390    1344.842\n",
       "x65        -1952.3988    292.271     -6.680      0.000   -2525.772   -1379.026\n",
       "x66         -440.0803    284.505     -1.547      0.122    -998.220     118.059\n",
       "x67         -406.6332    293.602     -1.385      0.166    -982.618     169.352\n",
       "x68           47.5434    321.906      0.148      0.883    -583.968     679.055\n",
       "x69         -296.1127    306.570     -0.966      0.334    -897.539     305.314\n",
       "x70         1835.2829    322.932      5.683      0.000    1201.759    2468.807\n",
       "x71                 0          0        nan        nan           0           0\n",
       "x72          391.6109    320.865      1.220      0.223    -237.858    1021.080\n",
       "x73          403.9524    332.377      1.215      0.224    -248.102    1056.006\n",
       "x74         1090.3967    357.004      3.054      0.002     390.029    1790.764\n",
       "x75          -50.6770    333.381     -0.152      0.879    -704.701     603.347\n",
       "x76        -3701.2971    377.120     -9.815      0.000   -4441.127   -2961.467\n",
       "x77         -829.1272    344.675     -2.406      0.016   -1505.306    -152.948\n",
       "x78        -1184.8871    373.961     -3.168      0.002   -1918.519    -451.255\n",
       "x79        -1277.1189    367.740     -3.473      0.001   -1998.547    -555.691\n",
       "x80         -410.1640    380.767     -1.077      0.282   -1157.149     336.821\n",
       "x81         -437.5163    329.499     -1.328      0.184   -1083.924     208.891\n",
       "x82                 0          0        nan        nan           0           0\n",
       "x83                 0          0        nan        nan           0           0\n",
       "x84                 0          0        nan        nan           0           0\n",
       "x85         -780.9347    363.992     -2.145      0.032   -1495.010     -66.859\n",
       "x86                 0          0        nan        nan           0           0\n",
       "x87                 0          0        nan        nan           0           0\n",
       "x88         -186.7222    413.651     -0.451      0.652    -998.219     624.774\n",
       "x89                 0          0        nan        nan           0           0\n",
       "x90         -460.8410    360.182     -1.279      0.201   -1167.441     245.759\n",
       "==============================================================================\n",
       "Omnibus:                      730.465   Durbin-Watson:                   2.061\n",
       "Prob(Omnibus):                  0.000   Jarque-Bera (JB):             4683.701\n",
       "Skew:                           2.551   Prob(JB):                         0.00\n",
       "Kurtosis:                      10.614   Cond. No.                     2.23e+16\n",
       "==============================================================================\n",
       "\n",
       "Warnings:\n",
       "[1] Standard Errors assume that the covariance matrix of the errors is correctly specified.\n",
       "[2] The smallest eigenvalue is 1.82e-23. This might indicate that there are\n",
       "strong multicollinearity problems or that the design matrix is singular.\n",
       "\"\"\""
      ]
     },
     "execution_count": 307,
     "metadata": {},
     "output_type": "execute_result"
    }
   ],
   "source": [
    "insmodel.summary()"
   ]
  },
  {
   "cell_type": "markdown",
   "metadata": {},
   "source": [
    "# Auto Correlation test"
   ]
  },
  {
   "cell_type": "code",
   "execution_count": 309,
   "metadata": {},
   "outputs": [],
   "source": [
    "from statsmodels.stats.stattools import durbin_watson"
   ]
  },
  {
   "cell_type": "code",
   "execution_count": 312,
   "metadata": {},
   "outputs": [
    {
     "data": {
      "text/plain": [
       "2.060645147169091"
      ]
     },
     "execution_count": 312,
     "metadata": {},
     "output_type": "execute_result"
    }
   ],
   "source": [
    "durbin_watson(insresi) #test for auto correlation i.e for checking the dependency between 2 errors"
   ]
  },
  {
   "cell_type": "code",
   "execution_count": 2,
   "metadata": {},
   "outputs": [],
   "source": [
    "#if the value is between 1 and 3 there is no auto correlation| If the value is 4 then the data is highly negatively correlated\n",
    "#if the value is 0 then the data is positively correlated"
   ]
  },
  {
   "cell_type": "markdown",
   "metadata": {},
   "source": [
    "# New "
   ]
  },
  {
   "cell_type": "code",
   "execution_count": null,
   "metadata": {},
   "outputs": [],
   "source": []
  },
  {
   "cell_type": "code",
   "execution_count": 335,
   "metadata": {},
   "outputs": [],
   "source": [
    "from sklearn.model_selection import train_test_split\n",
    "from sklearn.linear_model import LinearRegression"
   ]
  },
  {
   "cell_type": "code",
   "execution_count": 322,
   "metadata": {},
   "outputs": [],
   "source": [
    "xtrain,xtest,ytrain,ytest=train_test_split(x,y,test_size=0.30,random_state=123)"
   ]
  },
  {
   "cell_type": "code",
   "execution_count": 323,
   "metadata": {},
   "outputs": [],
   "source": [
    "lm=LinearRegression()"
   ]
  },
  {
   "cell_type": "code",
   "execution_count": 324,
   "metadata": {},
   "outputs": [
    {
     "data": {
      "text/plain": [
       "LinearRegression(copy_X=True, fit_intercept=True, n_jobs=None,\n",
       "         normalize=False)"
      ]
     },
     "execution_count": 324,
     "metadata": {},
     "output_type": "execute_result"
    }
   ],
   "source": [
    "lm.fit(xtrain,ytrain)"
   ]
  },
  {
   "cell_type": "code",
   "execution_count": 325,
   "metadata": {},
   "outputs": [],
   "source": [
    "lm_pred=lm.predict(xtest)"
   ]
  },
  {
   "cell_type": "code",
   "execution_count": 326,
   "metadata": {},
   "outputs": [
    {
     "data": {
      "text/plain": [
       "2869.0947914900494"
      ]
     },
     "execution_count": 326,
     "metadata": {},
     "output_type": "execute_result"
    }
   ],
   "source": [
    "mean_absolute_error(ytest, lm_pred)"
   ]
  },
  {
   "cell_type": "code",
   "execution_count": 327,
   "metadata": {},
   "outputs": [
    {
     "name": "stdout",
     "output_type": "stream",
     "text": [
      "4842.203859418503\n"
     ]
    }
   ],
   "source": [
    "print(np.sqrt(mean_squared_error(ytrain, lm.predict(xtrain))))"
   ]
  },
  {
   "cell_type": "code",
   "execution_count": null,
   "metadata": {},
   "outputs": [],
   "source": []
  },
  {
   "cell_type": "markdown",
   "metadata": {},
   "source": [
    "# Advertising Data"
   ]
  },
  {
   "cell_type": "code",
   "execution_count": 328,
   "metadata": {},
   "outputs": [],
   "source": [
    "ad=pd.read_csv(\"Advertising.csv\")"
   ]
  },
  {
   "cell_type": "code",
   "execution_count": 336,
   "metadata": {},
   "outputs": [
    {
     "data": {
      "text/html": [
       "<div>\n",
       "<style scoped>\n",
       "    .dataframe tbody tr th:only-of-type {\n",
       "        vertical-align: middle;\n",
       "    }\n",
       "\n",
       "    .dataframe tbody tr th {\n",
       "        vertical-align: top;\n",
       "    }\n",
       "\n",
       "    .dataframe thead th {\n",
       "        text-align: right;\n",
       "    }\n",
       "</style>\n",
       "<table border=\"1\" class=\"dataframe\">\n",
       "  <thead>\n",
       "    <tr style=\"text-align: right;\">\n",
       "      <th></th>\n",
       "      <th>TV</th>\n",
       "      <th>Radio</th>\n",
       "      <th>Newspaper</th>\n",
       "      <th>Sales</th>\n",
       "    </tr>\n",
       "  </thead>\n",
       "  <tbody>\n",
       "    <tr>\n",
       "      <th>0</th>\n",
       "      <td>230.1</td>\n",
       "      <td>37.8</td>\n",
       "      <td>69.2</td>\n",
       "      <td>22.1</td>\n",
       "    </tr>\n",
       "    <tr>\n",
       "      <th>1</th>\n",
       "      <td>44.5</td>\n",
       "      <td>39.3</td>\n",
       "      <td>45.1</td>\n",
       "      <td>10.4</td>\n",
       "    </tr>\n",
       "    <tr>\n",
       "      <th>2</th>\n",
       "      <td>17.2</td>\n",
       "      <td>45.9</td>\n",
       "      <td>69.3</td>\n",
       "      <td>9.3</td>\n",
       "    </tr>\n",
       "    <tr>\n",
       "      <th>3</th>\n",
       "      <td>151.5</td>\n",
       "      <td>41.3</td>\n",
       "      <td>58.5</td>\n",
       "      <td>18.5</td>\n",
       "    </tr>\n",
       "    <tr>\n",
       "      <th>4</th>\n",
       "      <td>180.8</td>\n",
       "      <td>10.8</td>\n",
       "      <td>58.4</td>\n",
       "      <td>12.9</td>\n",
       "    </tr>\n",
       "  </tbody>\n",
       "</table>\n",
       "</div>"
      ],
      "text/plain": [
       "      TV  Radio  Newspaper  Sales\n",
       "0  230.1   37.8       69.2   22.1\n",
       "1   44.5   39.3       45.1   10.4\n",
       "2   17.2   45.9       69.3    9.3\n",
       "3  151.5   41.3       58.5   18.5\n",
       "4  180.8   10.8       58.4   12.9"
      ]
     },
     "execution_count": 336,
     "metadata": {},
     "output_type": "execute_result"
    }
   ],
   "source": [
    "ad=ad.drop(\"Unnamed: 0\",axis=1)\n",
    "ad.head()\n"
   ]
  },
  {
   "cell_type": "code",
   "execution_count": 337,
   "metadata": {},
   "outputs": [],
   "source": [
    "x=ad.drop(\"Sales\",axis=1)\n",
    "x=sm.add_constant(x)\n",
    "y=ad.Sales\n",
    "xtrain,xtest,ytrain,ytest=train_test_split(x,y,test_size=0.30,random_state=123)"
   ]
  },
  {
   "cell_type": "code",
   "execution_count": 338,
   "metadata": {},
   "outputs": [],
   "source": [
    "lm=LinearRegression()"
   ]
  },
  {
   "cell_type": "code",
   "execution_count": 339,
   "metadata": {},
   "outputs": [
    {
     "data": {
      "text/plain": [
       "LinearRegression(copy_X=True, fit_intercept=True, n_jobs=None,\n",
       "         normalize=False)"
      ]
     },
     "execution_count": 339,
     "metadata": {},
     "output_type": "execute_result"
    }
   ],
   "source": [
    "lm.fit(xtrain,ytrain)"
   ]
  },
  {
   "cell_type": "code",
   "execution_count": 342,
   "metadata": {},
   "outputs": [
    {
     "data": {
      "text/plain": [
       "array([12.69223455,  6.5270928 , 15.38858511,  9.62842894, 14.06192583,\n",
       "       20.20530685, 12.35574875, 19.83997665, 14.91536098, 10.1497561 ,\n",
       "       10.05120388, 20.65495998,  6.47131527,  5.8963247 ,  3.48318565,\n",
       "       11.27493828, 13.24001721, 16.12329904,  7.68667727, 18.10050898,\n",
       "        7.40636318, 11.64283082, 10.55137205,  7.26035652, 22.07489434,\n",
       "       10.11810034, 10.56757674, 14.84619239, 10.01785943, 20.5745739 ,\n",
       "        9.62335573, 21.24882208, 24.15620995,  6.64604874, 15.22215997,\n",
       "       19.22760963, 18.5570192 , 19.48442906, 16.24868554,  9.34163361,\n",
       "        8.01790088, 18.45415198, 15.06547565, 18.8474166 , 16.55544438,\n",
       "       14.33136461, 17.20900284, 13.97747204, 16.29359359, 10.55501473,\n",
       "        9.69083618, 14.85849632, 21.57138158, 14.33468396,  8.29359269,\n",
       "       13.40075667,  6.94755324, 24.72247218, 13.6555342 , 16.81144978])"
      ]
     },
     "execution_count": 342,
     "metadata": {},
     "output_type": "execute_result"
    }
   ],
   "source": [
    "lm_pred=lm.predict(xtest)\n",
    "lm_pred"
   ]
  },
  {
   "cell_type": "code",
   "execution_count": 1,
   "metadata": {},
   "outputs": [
    {
     "ename": "NameError",
     "evalue": "name 'sm' is not defined",
     "output_type": "error",
     "traceback": [
      "\u001b[1;31m---------------------------------------------------------------------------\u001b[0m",
      "\u001b[1;31mNameError\u001b[0m                                 Traceback (most recent call last)",
      "\u001b[1;32m<ipython-input-1-42dbd028bb60>\u001b[0m in \u001b[0;36m<module>\u001b[1;34m\u001b[0m\n\u001b[1;32m----> 1\u001b[1;33m \u001b[0madmodel\u001b[0m\u001b[1;33m=\u001b[0m\u001b[0msm\u001b[0m\u001b[1;33m.\u001b[0m\u001b[0mOLS\u001b[0m\u001b[1;33m(\u001b[0m\u001b[0my\u001b[0m\u001b[1;33m,\u001b[0m\u001b[0mx\u001b[0m\u001b[1;33m)\u001b[0m\u001b[1;33m.\u001b[0m\u001b[0mfit\u001b[0m\u001b[1;33m(\u001b[0m\u001b[1;33m)\u001b[0m\u001b[1;33m\u001b[0m\u001b[1;33m\u001b[0m\u001b[0m\n\u001b[0m\u001b[0;32m      2\u001b[0m \u001b[0madpredict\u001b[0m\u001b[1;33m=\u001b[0m\u001b[0madmodel\u001b[0m\u001b[1;33m.\u001b[0m\u001b[0mpredict\u001b[0m\u001b[1;33m(\u001b[0m\u001b[0mx\u001b[0m\u001b[1;33m)\u001b[0m\u001b[1;33m\u001b[0m\u001b[1;33m\u001b[0m\u001b[0m\n\u001b[0;32m      3\u001b[0m \u001b[0madfitted\u001b[0m\u001b[1;33m=\u001b[0m\u001b[0madmodel\u001b[0m\u001b[1;33m.\u001b[0m\u001b[0mfittedvalues\u001b[0m\u001b[1;33m\u001b[0m\u001b[1;33m\u001b[0m\u001b[0m\n\u001b[0;32m      4\u001b[0m \u001b[0madresi\u001b[0m\u001b[1;33m=\u001b[0m\u001b[0madmodel\u001b[0m\u001b[1;33m.\u001b[0m\u001b[0mresid\u001b[0m\u001b[1;33m\u001b[0m\u001b[1;33m\u001b[0m\u001b[0m\n\u001b[0;32m      5\u001b[0m \u001b[0mad_st_residual\u001b[0m\u001b[1;33m=\u001b[0m\u001b[0madmodel\u001b[0m\u001b[1;33m.\u001b[0m\u001b[0mget_influence\u001b[0m\u001b[1;33m(\u001b[0m\u001b[1;33m)\u001b[0m\u001b[1;33m.\u001b[0m\u001b[0mresid_studentized_internal\u001b[0m\u001b[1;33m\u001b[0m\u001b[1;33m\u001b[0m\u001b[0m\n",
      "\u001b[1;31mNameError\u001b[0m: name 'sm' is not defined"
     ]
    }
   ],
   "source": [
    "admodel=sm.OLS(y,x).fit()\n",
    "adpredict=admodel.predict(x)\n",
    "adfitted=admodel.fittedvalues\n",
    "adresi=admodel.resid\n",
    "ad_st_residual=admodel.get_influence().resid_studentized_internal"
   ]
  },
  {
   "cell_type": "code",
   "execution_count": 347,
   "metadata": {},
   "outputs": [
    {
     "data": {
      "text/plain": [
       "0.8972106381789522"
      ]
     },
     "execution_count": 347,
     "metadata": {},
     "output_type": "execute_result"
    }
   ],
   "source": [
    "admodel.rsquared"
   ]
  },
  {
   "cell_type": "markdown",
   "metadata": {},
   "source": [
    "- In statistics, the variance inflation factor (VIF) is the ratio of variance in a model with multiple terms, divided by the variance of a model with one term alone. It quantifies the severity of multicollinearity in an ordinary least squares regression analysis. It provides an index that measures how much the variance (the square of the estimate's standard deviation) of an estimated regression coefficient is increased because of collinearity."
   ]
  }
 ],
 "metadata": {
  "kernelspec": {
   "display_name": "Python 3",
   "language": "python",
   "name": "python3"
  },
  "language_info": {
   "codemirror_mode": {
    "name": "ipython",
    "version": 3
   },
   "file_extension": ".py",
   "mimetype": "text/x-python",
   "name": "python",
   "nbconvert_exporter": "python",
   "pygments_lexer": "ipython3",
   "version": "3.7.1"
  }
 },
 "nbformat": 4,
 "nbformat_minor": 2
}
