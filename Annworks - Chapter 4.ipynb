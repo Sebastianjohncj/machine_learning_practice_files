{
 "cells": [
  {
   "cell_type": "markdown",
   "metadata": {},
   "source": [
    "#  Functions"
   ]
  },
  {
   "cell_type": "code",
   "execution_count": 1,
   "metadata": {},
   "outputs": [],
   "source": [
    "## Function 1 - Create a function \n",
    "def helloworld():\n",
    "    print(\"Hellooo world\")"
   ]
  },
  {
   "cell_type": "code",
   "execution_count": 4,
   "metadata": {},
   "outputs": [
    {
     "name": "stdout",
     "output_type": "stream",
     "text": [
      "Hellooo world\n"
     ]
    }
   ],
   "source": [
    "# function call\n",
    "helloworld()"
   ]
  },
  {
   "cell_type": "code",
   "execution_count": 2,
   "metadata": {},
   "outputs": [
    {
     "name": "stdout",
     "output_type": "stream",
     "text": [
      "Hello  Eddyy\n"
     ]
    }
   ],
   "source": [
    "## Function 2 - Create a function and pass input variable\n",
    "## pass variable to the function\n",
    "def hello(nm):\n",
    "    print(\"Hello \",nm)\n",
    "    \n",
    "## call the function\n",
    "hello(\"Eddyy\")\n",
    "\n",
    "#nm = \"Eddy\""
   ]
  },
  {
   "cell_type": "code",
   "execution_count": 82,
   "metadata": {},
   "outputs": [
    {
     "name": "stdout",
     "output_type": "stream",
     "text": [
      "Name:  Ethan\n",
      "Age  22\n"
     ]
    }
   ],
   "source": [
    "## pass argument\n",
    "def printinfo( name, age ):\n",
    "   \n",
    "   print(\"Name: \", name)\n",
    "   print( \"Age \", age)\n",
    "   return;\n",
    "\n",
    "# Now you can call printinfo function\n",
    "#printinfo(\"Ethan\",22)\n",
    "printinfo( age=22, name=\"Ethan\" )"
   ]
  },
  {
   "cell_type": "code",
   "execution_count": 5,
   "metadata": {},
   "outputs": [
    {
     "name": "stdout",
     "output_type": "stream",
     "text": [
      "Name:  Ethan\n",
      "Age  20\n"
     ]
    }
   ],
   "source": [
    "## pass argument and assign default\n",
    "def printinfo( name, age = 20 ):\n",
    "   \n",
    "   print(\"Name: \", name)\n",
    "   print( \"Age \", age)\n",
    "   return;\n",
    "\n",
    "# Now you can call printinfo function\n",
    "#printinfo(\"Ethan\",22)\n",
    "printinfo( name=\"Ethan\" )"
   ]
  },
  {
   "cell_type": "code",
   "execution_count": 67,
   "metadata": {},
   "outputs": [
    {
     "name": "stdout",
     "output_type": "stream",
     "text": [
      "x:  10\n",
      "y:  50\n"
     ]
    }
   ],
   "source": [
    "## Assign a default value to the function\n",
    "def def_val_fun(x, y=50): \n",
    "    print(\"x: \", x) \n",
    "    print(\"y: \", y) \n",
    "  \n",
    "# call the function\n",
    "def_val_fun(10)"
   ]
  },
  {
   "cell_type": "code",
   "execution_count": 6,
   "metadata": {},
   "outputs": [
    {
     "name": "stdout",
     "output_type": "stream",
     "text": [
      "Ann Works\n",
      "Ann Works\n",
      "Ann Works\n"
     ]
    }
   ],
   "source": [
    "## key word arguments\n",
    "def student(firstname, lastname):  \n",
    "     print(firstname, lastname)  \n",
    "    \n",
    "    \n",
    "# Keyword arguments   \n",
    "student('Ann','Works')  \n",
    "student(firstname ='Ann', lastname ='Works')     \n",
    "student(lastname ='Works', firstname ='Ann')  "
   ]
  },
  {
   "cell_type": "code",
   "execution_count": 70,
   "metadata": {},
   "outputs": [
    {
     "name": "stdout",
     "output_type": "stream",
     "text": [
      "I am from Sweden\n",
      "I am from India\n",
      "I am from Norway\n",
      "I am from Brazil\n"
     ]
    }
   ],
   "source": [
    "def my_function(country = \"Norway\"):\n",
    "  print(\"I am from \" + country)\n",
    "\n",
    "my_function(\"Sweden\")\n",
    "my_function(\"India\")\n",
    "my_function() ## picks the default value\n",
    "my_function(\"Brazil\")"
   ]
  },
  {
   "cell_type": "code",
   "execution_count": 71,
   "metadata": {},
   "outputs": [
    {
     "name": "stdout",
     "output_type": "stream",
     "text": [
      "15\n",
      "25\n",
      "45\n"
     ]
    }
   ],
   "source": [
    "## simple math function\n",
    "def my_function(x):\n",
    "  return 5 * x\n",
    "\n",
    "print(my_function(3))\n",
    "print(my_function(5))\n",
    "print(my_function(9))"
   ]
  },
  {
   "cell_type": "code",
   "execution_count": 7,
   "metadata": {},
   "outputs": [],
   "source": [
    "## Function 3 - Create a function with return statement\n",
    "\n",
    "def add_fun(x,y):\n",
    "    z = x + y\n",
    "    return(z)"
   ]
  },
  {
   "cell_type": "code",
   "execution_count": 9,
   "metadata": {},
   "outputs": [
    {
     "data": {
      "text/plain": [
       "6"
      ]
     },
     "execution_count": 9,
     "metadata": {},
     "output_type": "execute_result"
    }
   ],
   "source": [
    "## Call the function to execute the function\n",
    "add_fun(3,3)"
   ]
  },
  {
   "cell_type": "code",
   "execution_count": 1,
   "metadata": {},
   "outputs": [],
   "source": [
    "## Function 4 - Function to greet based on the language selection\n",
    "## defeine the function\n",
    "def greet(inp):\n",
    "    if(inp == \"eng\"):\n",
    "        print(\"Hi there, how r u ?\")\n",
    "    elif(inp == \"fra\"):\n",
    "        print(\"Bonjour\")\n",
    "    elif(inp == \"tam\"):\n",
    "        print(\"Vannakam\")\n",
    "    else:\n",
    "        print(\"Select right language\")"
   ]
  },
  {
   "cell_type": "code",
   "execution_count": 11,
   "metadata": {},
   "outputs": [
    {
     "name": "stdout",
     "output_type": "stream",
     "text": [
      "Vannakam\n",
      "Select right language\n"
     ]
    }
   ],
   "source": [
    "#call the function\n",
    "greet(\"tam\")    \n",
    "greet(\"par\")"
   ]
  },
  {
   "cell_type": "code",
   "execution_count": 63,
   "metadata": {},
   "outputs": [
    {
     "name": "stdout",
     "output_type": "stream",
     "text": [
      "even\n"
     ]
    }
   ],
   "source": [
    "def evenOdd( x ): \n",
    "    if (x % 2 == 0): \n",
    "        print(\"even\")\n",
    "    else: \n",
    "        print(\"odd\")\n",
    "        \n",
    "##call the function\n",
    "evenOdd(10) \n",
    " "
   ]
  },
  {
   "cell_type": "code",
   "execution_count": 65,
   "metadata": {},
   "outputs": [
    {
     "name": "stdout",
     "output_type": "stream",
     "text": [
      "[20, 11, 12, 13, 14, 15]\n"
     ]
    }
   ],
   "source": [
    "## write a function to update the list\n",
    "def list_update(x): \n",
    "   x[0] = 20\n",
    "  \n",
    "# call the function\n",
    "lst = [10, 11, 12, 13, 14, 15]  \n",
    "list_update(lst); \n",
    "print(lst) "
   ]
  },
  {
   "cell_type": "code",
   "execution_count": 79,
   "metadata": {},
   "outputs": [
    {
     "name": "stdout",
     "output_type": "stream",
     "text": [
      "Values inside the function:  [10, 20, 30, [1, 2, 3, 4]]\n",
      "Values outside the function:  [10, 20, 30, [1, 2, 3, 4]]\n"
     ]
    }
   ],
   "source": [
    "## pass by reference\n",
    "\n",
    "# Function definition is here\n",
    "def changeme(mylist):\n",
    "   mylist.append([1,2,3,4]);\n",
    "   print(\"Values inside the function: \", mylist)\n",
    "   return\n",
    "\n",
    "# Now you can call changeme function\n",
    "mylist = [10,20,30];\n",
    "changeme(mylist);\n",
    "print(\"Values outside the function: \", mylist)\n",
    "\n",
    "#  if you change what a parameter refers to within a function, \n",
    "#  the change also reflects back in the calling function"
   ]
  },
  {
   "cell_type": "code",
   "execution_count": 80,
   "metadata": {},
   "outputs": [
    {
     "name": "stdout",
     "output_type": "stream",
     "text": [
      "Values inside the function:  [1, 2, 3, 4]\n",
      "Values outside the function:  [10, 20, 30]\n"
     ]
    }
   ],
   "source": [
    "## Pass by reference and its overwritten\n",
    "def changeme(mylist):\n",
    "   \n",
    "   mylist = [1,2,3,4]; # This would assign new reference in mylist\n",
    "   print(\"Values inside the function: \", mylist)\n",
    "   return\n",
    "\n",
    "# Now you can call changeme function\n",
    "mylist = [10,20,30];\n",
    "changeme(mylist);\n",
    "print(\"Values outside the function: \", mylist)"
   ]
  },
  {
   "cell_type": "code",
   "execution_count": 66,
   "metadata": {},
   "outputs": [
    {
     "name": "stdout",
     "output_type": "stream",
     "text": [
      "2\n",
      "3\n"
     ]
    }
   ],
   "source": [
    "## write a program to swap the variable through function\n",
    "def swap(x, y): \n",
    "    temp = x; \n",
    "    x = y; \n",
    "    y = temp; \n",
    "  \n",
    "# call the function \n",
    "x = 2\n",
    "y = 3\n",
    "swap(x, y) \n",
    "print(x) \n",
    "print(y)"
   ]
  },
  {
   "cell_type": "code",
   "execution_count": 14,
   "metadata": {},
   "outputs": [],
   "source": [
    "## Function 5 - Function to do add and suc\n",
    "## function which does more than one math operation\n",
    "def math_fun(x,y):\n",
    "    add = x + y\n",
    "    sub = x-y\n",
    "    print(add,sub)\n",
    "    #return \"addition output : {} and subtraction output : {}\" .format(add,sub)\n",
    "    return add,sub"
   ]
  },
  {
   "cell_type": "code",
   "execution_count": 15,
   "metadata": {},
   "outputs": [
    {
     "name": "stdout",
     "output_type": "stream",
     "text": [
      "6 2\n"
     ]
    },
    {
     "data": {
      "text/plain": [
       "(6, 2)"
      ]
     },
     "execution_count": 15,
     "metadata": {},
     "output_type": "execute_result"
    }
   ],
   "source": [
    "## Call the function to execute the function\n",
    "math_fun(4,2)"
   ]
  },
  {
   "cell_type": "code",
   "execution_count": 23,
   "metadata": {},
   "outputs": [
    {
     "name": "stdout",
     "output_type": "stream",
     "text": [
      "5.666666666666667\n",
      "5\n",
      "2\n"
     ]
    }
   ],
   "source": [
    "print(17/3)  # returns float value\n",
    "print(17//3) # floor division discards the fractional part\n",
    "print(17 % 3)  # the % operator returns the remainder of the division"
   ]
  },
  {
   "cell_type": "code",
   "execution_count": 2,
   "metadata": {},
   "outputs": [],
   "source": [
    "# variable length argument\n",
    "# Function definition is here\n",
    "# arguments are called variable-length arguments and are not named in the function definition\n",
    "# asterisk (*) is placed before the variable name that holds the values of all nonkeyword variable arguments\n",
    "def fun_arg( arg1, *vartuple ):\n",
    "   \n",
    "   print(\"Output is: \",arg1)\n",
    "   for var in vartuple:\n",
    "      print(var)\n",
    "   return;"
   ]
  },
  {
   "cell_type": "code",
   "execution_count": 3,
   "metadata": {},
   "outputs": [
    {
     "name": "stdout",
     "output_type": "stream",
     "text": [
      "Output is:  10\n",
      "Output is:  20\n",
      "30\n",
      "40\n"
     ]
    }
   ],
   "source": [
    "fun_arg( 10 )\n",
    "fun_arg( 20,30,40 )"
   ]
  },
  {
   "cell_type": "code",
   "execution_count": 89,
   "metadata": {},
   "outputs": [
    {
     "name": "stdout",
     "output_type": "stream",
     "text": [
      "Inside the function local total :  30\n",
      "Outside the function global total :  0\n"
     ]
    }
   ],
   "source": [
    "## scope variables\n",
    "total = 0; # This is global variable.\n",
    "# Function definition is here\n",
    "def sum( arg1, arg2 ):\n",
    "   # Add both the parameters and return them.\"\n",
    "   total = arg1 + arg2; # Here total is local variable.\n",
    "   print(\"Inside the function local total : \", total)\n",
    "   return total;\n",
    "\n",
    "# Now you can call sum function\n",
    "sum( 10, 20 );\n",
    "print(\"Outside the function global total : \", total )"
   ]
  },
  {
   "cell_type": "markdown",
   "metadata": {},
   "source": [
    "## Function 6 - Function to caculate number of days and weeks"
   ]
  },
  {
   "cell_type": "code",
   "execution_count": 30,
   "metadata": {},
   "outputs": [
    {
     "name": "stdout",
     "output_type": "stream",
     "text": [
      "1\n",
      "number of weeks:  2\n",
      "num of days left : 1\n"
     ]
    }
   ],
   "source": [
    "days = 15\n",
    "weeks = days // 7\n",
    "remainder = days % 7\n",
    "print(remainder)\n",
    "print(\"number of weeks: \" ,weeks)\n",
    "print(\"num of days left :\", remainder)"
   ]
  },
  {
   "cell_type": "code",
   "execution_count": 14,
   "metadata": {},
   "outputs": [
    {
     "data": {
      "text/plain": [
       "'\\n### below commands are part of the above function\\n   days = 15\\n   weeks = days // 7\\n   remainder = days % 7\\n   print(\"number of weeks: \" ,weeks)\\n   print(\"num of days left :\", remainder)\\n   '"
      ]
     },
     "execution_count": 14,
     "metadata": {},
     "output_type": "execute_result"
    }
   ],
   "source": [
    " \"\"\"\n",
    " ### below commands are part of the above function\n",
    "    days = 15\n",
    "    weeks = days // 7\n",
    "    remainder = days % 7\n",
    "    print(\"number of weeks: \" ,weeks)\n",
    "    print(\"num of days left :\", remainder)\n",
    "    \"\"\""
   ]
  },
  {
   "cell_type": "code",
   "execution_count": 32,
   "metadata": {},
   "outputs": [],
   "source": [
    "\n",
    "## Pass the number of days and get the count of weeks and left out days\n",
    "def readable_timedelta(days):\n",
    "    ## find how many working weeks with the given input days\n",
    "    weeks = days // 7\n",
    "    # find how many days left\n",
    "    remainder = days % 7\n",
    "    return \"{} week(s) and {} day(s)\".format(weeks, remainder)"
   ]
  },
  {
   "cell_type": "code",
   "execution_count": 34,
   "metadata": {},
   "outputs": [
    {
     "name": "stdout",
     "output_type": "stream",
     "text": [
      "1 week(s) and 5 day(s)\n"
     ]
    }
   ],
   "source": [
    "## call the function\n",
    "print(readable_timedelta(12))"
   ]
  },
  {
   "cell_type": "code",
   "execution_count": 35,
   "metadata": {},
   "outputs": [],
   "source": [
    "## Function 7 -    \n",
    "    # find out the middle three number of the given 5 number and add the values\\   \n",
    "def sum_of_middle_three(score1,score2,score3,score4,score5):\n",
    "    \"\"\"\n",
    "    Find the sum of the middle three numbers out of the five given.\n",
    "    \"\"\"\n",
    "    max_score = max(score1,score2,score3,score4,score5)\n",
    "    min_score = min(score1,score2,score3,score4,score5)\n",
    "    sum1 = score1 + score2 + score3 + score4 + score5 - max_score - min_score\n",
    "    return sum1"
   ]
  },
  {
   "cell_type": "code",
   "execution_count": 36,
   "metadata": {},
   "outputs": [
    {
     "data": {
      "text/plain": [
       "180"
      ]
     },
     "execution_count": 36,
     "metadata": {},
     "output_type": "execute_result"
    }
   ],
   "source": [
    "##call the function    \n",
    "sum_of_middle_three(40,20,60,80,86)\n",
    "#sum_of_middle_three(40,20,60,80,86,23) ## adition of one more input will thro an error as the function written will not support"
   ]
  },
  {
   "cell_type": "code",
   "execution_count": null,
   "metadata": {},
   "outputs": [],
   "source": [
    "## steps for finding the median\n",
    "inp = [1,2,3,4,6,7]\n",
    "right_of_middle = len(inp)//2 \n",
    "left_of_middle = right_of_middle - 1\n",
    "(inp[right_of_middle]) + (inp[left_of_middle]) ## inp[3] + inp[2]\n",
    "((inp[right_of_middle]) + (inp[left_of_middle]))/2 ## inp[3] + inp[2]"
   ]
  },
  {
   "cell_type": "code",
   "execution_count": 48,
   "metadata": {},
   "outputs": [],
   "source": [
    "## function 8\n",
    "\n",
    "      ## function to calculate the median\n",
    "        ## if the input is odd number pick the middle, if its even pic the mid two , add and take average\n",
    "\n",
    "\n",
    "def median(inp):\n",
    "    inp.sort() ## sorted data 1,2,3,4,6,7\n",
    "    if len(inp) % 2 != 0 :\n",
    "        ## odd\n",
    "       # since the input return odd output, we need to just pick the middle element to get the median\n",
    "        middle_index = int(len(inp)/2) \n",
    "        return inp[middle_index]\n",
    "    else:\n",
    "        ## even\n",
    "        # given input list is even order\n",
    "        right_of_middle = len(inp)//2 \n",
    "        left_of_middle = right_of_middle - 1\n",
    "        return (inp[right_of_middle] + inp[left_of_middle])/2"
   ]
  },
  {
   "cell_type": "code",
   "execution_count": 57,
   "metadata": {},
   "outputs": [
    {
     "name": "stdout",
     "output_type": "stream",
     "text": [
      "[2, 3, 4, 6, 7, 1]\n"
     ]
    },
    {
     "data": {
      "text/plain": [
       "3.5"
      ]
     },
     "execution_count": 57,
     "metadata": {},
     "output_type": "execute_result"
    }
   ],
   "source": [
    "inp = [ 2,3,4,6,7,1]  # 1,2,3,4,6,7\n",
    "#inp = [ 2,4,6,7,1]\n",
    "print(inp) \n",
    "median(inp)"
   ]
  },
  {
   "cell_type": "code",
   "execution_count": 91,
   "metadata": {},
   "outputs": [],
   "source": [
    "\n",
    "# calculate fahrenheit\n",
    "def cal_fahr(celsius):\n",
    "    fahrenheit = (celsius * 1.8) + 32\n",
    "    print('%0.1f degree Celsius is equal to %0.1f degree Fahrenheit' %(celsius,fahrenheit))"
   ]
  },
  {
   "cell_type": "code",
   "execution_count": 92,
   "metadata": {},
   "outputs": [
    {
     "name": "stdout",
     "output_type": "stream",
     "text": [
      "37.5 degree Celsius is equal to 99.5 degree Fahrenheit\n"
     ]
    }
   ],
   "source": [
    "# call the function\n",
    "cal_fahr(37.5)\n"
   ]
  },
  {
   "cell_type": "code",
   "execution_count": null,
   "metadata": {},
   "outputs": [],
   "source": [
    "# Program to check if a string\n",
    "#  is palindrome or not"
   ]
  },
  {
   "cell_type": "code",
   "execution_count": 93,
   "metadata": {},
   "outputs": [],
   "source": [
    "\n",
    "def pal(my_str):\n",
    "    # make it suitable for caseless comparison\n",
    "    my_str = my_str.casefold()\n",
    "\n",
    "    # reverse the string\n",
    "    rev_str = reversed(my_str)\n",
    "\n",
    "    # check if the string is equal to its reverse\n",
    "    if list(my_str) == list(rev_str):\n",
    "       print(\"It is palindrome\")\n",
    "    else:\n",
    "       print(\"It is not palindrome\")"
   ]
  },
  {
   "cell_type": "code",
   "execution_count": 98,
   "metadata": {},
   "outputs": [
    {
     "name": "stdout",
     "output_type": "stream",
     "text": [
      "It is not palindrome\n",
      "It is palindrome\n"
     ]
    }
   ],
   "source": [
    "pal('aabba')\n",
    "pal('aabbaa')"
   ]
  },
  {
   "cell_type": "code",
   "execution_count": 16,
   "metadata": {},
   "outputs": [
    {
     "data": {
      "text/plain": [
       "'madam'"
      ]
     },
     "execution_count": 16,
     "metadata": {},
     "output_type": "execute_result"
    }
   ],
   "source": [
    "## other way to handle the above code of palindrome\n",
    "#a = [\"Apple\",\"cheery\",\"orange\"]\n",
    "a = ('madam')\n",
    "a\n",
    "a[::-1]"
   ]
  },
  {
   "cell_type": "code",
   "execution_count": null,
   "metadata": {},
   "outputs": [],
   "source": [
    "# check prime number"
   ]
  },
  {
   "cell_type": "code",
   "execution_count": 28,
   "metadata": {},
   "outputs": [],
   "source": [
    "def fun_prime(num):\n",
    "    # prime numbers are greater than 1\n",
    "    if num > 1:\n",
    "       # check for factors\n",
    "       for i in range(2,num):\n",
    "           if (num % i) == 0:\n",
    "               print(num,\"is not a prime number\")\n",
    "               break\n",
    "       else:\n",
    "           print(num,\"is a prime number\")\n",
    "       \n",
    "    # if input number is less than or equal to 1, it is not prime\n",
    "    else:\n",
    "       print(num,\"is not a prime number\")"
   ]
  },
  {
   "cell_type": "code",
   "execution_count": 29,
   "metadata": {},
   "outputs": [
    {
     "name": "stdout",
     "output_type": "stream",
     "text": [
      "Enter a number: 3\n",
      "3 is a prime number\n"
     ]
    }
   ],
   "source": [
    "## call the function\n",
    "#fun_prime(num)\n",
    "## get run time input\n",
    "fun_prime(int(input(\"Enter a number: \")))\n"
   ]
  },
  {
   "cell_type": "code",
   "execution_count": null,
   "metadata": {},
   "outputs": [],
   "source": [
    "## find factorial"
   ]
  },
  {
   "cell_type": "code",
   "execution_count": 35,
   "metadata": {},
   "outputs": [],
   "source": [
    "# define a function\n",
    "def print_factors(x):\n",
    "   # This function takes a number and prints the factors\n",
    "\n",
    "   print(\"The factors of\",x,\"are:\")\n",
    "   for i in range(1, x + 1):\n",
    "       if x % i == 0:\n",
    "           print(i)\n",
    "\n"
   ]
  },
  {
   "cell_type": "code",
   "execution_count": 39,
   "metadata": {},
   "outputs": [
    {
     "name": "stdout",
     "output_type": "stream",
     "text": [
      "Enter a number: 6\n",
      "The factors of 6 are:\n",
      "1\n",
      "2\n",
      "3\n",
      "6\n"
     ]
    }
   ],
   "source": [
    "## call the function\n",
    "\n",
    "#print_factors(num)\n",
    "print_factors(int(input(\"Enter a number: \")))"
   ]
  },
  {
   "cell_type": "markdown",
   "metadata": {},
   "source": [
    "# Inbuilt functions"
   ]
  },
  {
   "cell_type": "code",
   "execution_count": 4,
   "metadata": {},
   "outputs": [
    {
     "name": "stdout",
     "output_type": "stream",
     "text": [
      "2019-02-11 07:41:34.691380\n"
     ]
    }
   ],
   "source": [
    "#date\n",
    "    \n",
    "## get the current system time and date\n",
    "import datetime\n",
    "x = datetime.datetime.now()\n",
    "print(x)"
   ]
  },
  {
   "cell_type": "code",
   "execution_count": 22,
   "metadata": {},
   "outputs": [
    {
     "name": "stdout",
     "output_type": "stream",
     "text": [
      "2018\n",
      "Thursday\n"
     ]
    }
   ],
   "source": [
    "# get year and day  \n",
    "import datetime\n",
    "x = datetime.datetime.now()\n",
    "print(x.year)\n",
    "print(x.strftime(\"%A\"))\n"
   ]
  },
  {
   "cell_type": "code",
   "execution_count": 31,
   "metadata": {},
   "outputs": [
    {
     "name": "stdout",
     "output_type": "stream",
     "text": [
      "2020-05-17 00:00:00\n"
     ]
    }
   ],
   "source": [
    "# create a date\n",
    "import datetime\n",
    "x = datetime.datetime(2020, 5, 17)\n",
    "print(x)"
   ]
  },
  {
   "cell_type": "code",
   "execution_count": 24,
   "metadata": {},
   "outputs": [
    {
     "name": "stdout",
     "output_type": "stream",
     "text": [
      "June\n"
     ]
    }
   ],
   "source": [
    "import datetime\n",
    "x = datetime.datetime(2018, 6, 1)\n",
    "print(x.strftime(\"%B\"))"
   ]
  },
  {
   "cell_type": "code",
   "execution_count": 32,
   "metadata": {},
   "outputs": [
    {
     "name": "stdout",
     "output_type": "stream",
     "text": [
      "1547025240.9196358\n",
      "Number of ticks since 12:00am, January 1, 1970: 1547025240.9196358\n"
     ]
    }
   ],
   "source": [
    "import time;  # This is required to include time module.\n",
    "ticks = time.time()\n",
    "print(ticks)\n",
    "print(\"Number of ticks since 12:00am, January 1, 1970:\", ticks)"
   ]
  },
  {
   "cell_type": "code",
   "execution_count": 33,
   "metadata": {},
   "outputs": [
    {
     "name": "stdout",
     "output_type": "stream",
     "text": [
      "Local current time : time.struct_time(tm_year=2019, tm_mon=1, tm_mday=9, tm_hour=14, tm_min=44, tm_sec=11, tm_wday=2, tm_yday=9, tm_isdst=0)\n"
     ]
    }
   ],
   "source": [
    "localtime = time.localtime(time.time())\n",
    "print(\"Local current time :\", localtime)"
   ]
  },
  {
   "cell_type": "code",
   "execution_count": 34,
   "metadata": {},
   "outputs": [
    {
     "name": "stdout",
     "output_type": "stream",
     "text": [
      "Local current time : Wed Jan  9 14:44:15 2019\n"
     ]
    }
   ],
   "source": [
    "## formated time\n",
    "localtime = time.asctime( time.localtime(time.time()) )\n",
    "print(\"Local current time :\", localtime)"
   ]
  },
  {
   "cell_type": "code",
   "execution_count": 31,
   "metadata": {},
   "outputs": [
    {
     "name": "stdout",
     "output_type": "stream",
     "text": [
      "Here is the calendar:\n",
      "    January 2008\n",
      "Mo Tu We Th Fr Sa Su\n",
      "    1  2  3  4  5  6\n",
      " 7  8  9 10 11 12 13\n",
      "14 15 16 17 18 19 20\n",
      "21 22 23 24 25 26 27\n",
      "28 29 30 31\n",
      "\n"
     ]
    }
   ],
   "source": [
    "## calendar\n",
    "import calendar\n",
    "cal = calendar.month(2008, 1)\n",
    "print(\"Here is the calendar:\")\n",
    "print(cal)"
   ]
  },
  {
   "cell_type": "code",
   "execution_count": null,
   "metadata": {},
   "outputs": [],
   "source": []
  }
 ],
 "metadata": {
  "kernelspec": {
   "display_name": "Python 3",
   "language": "python",
   "name": "python3"
  },
  "language_info": {
   "codemirror_mode": {
    "name": "ipython",
    "version": 3
   },
   "file_extension": ".py",
   "mimetype": "text/x-python",
   "name": "python",
   "nbconvert_exporter": "python",
   "pygments_lexer": "ipython3",
   "version": "3.7.1"
  }
 },
 "nbformat": 4,
 "nbformat_minor": 2
}
