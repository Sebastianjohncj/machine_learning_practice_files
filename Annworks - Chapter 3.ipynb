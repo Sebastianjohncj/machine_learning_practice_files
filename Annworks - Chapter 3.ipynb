{
 "cells": [
  {
   "cell_type": "markdown",
   "metadata": {},
   "source": [
    "# Conditional Statement"
   ]
  },
  {
   "cell_type": "code",
   "execution_count": 1,
   "metadata": {},
   "outputs": [],
   "source": [
    "if(3 > 5):\n",
    "    print('3 is greater than 5')\n",
    "\n",
    "# 3 is not greater than 5, but there is no else condition.so the output printed is wrong"
   ]
  },
  {
   "cell_type": "code",
   "execution_count": 6,
   "metadata": {},
   "outputs": [
    {
     "name": "stdout",
     "output_type": "stream",
     "text": [
      "not greater\n"
     ]
    }
   ],
   "source": [
    "# simple if else condition\n",
    "    \n",
    "if ( 3 > 5) :\n",
    "    print('3 is greater than 5')\n",
    "else: \n",
    "    print('not greater')"
   ]
  },
  {
   "cell_type": "code",
   "execution_count": 7,
   "metadata": {},
   "outputs": [
    {
     "name": "stdout",
     "output_type": "stream",
     "text": [
      "TRUE\n"
     ]
    }
   ],
   "source": [
    "#  If loop with  Boolean and Comparision\n",
    "\n",
    "## STRING COMPARISION\n",
    "## its case sensitive\n",
    "nm = \"annworks\"\n",
    "\n",
    "if ( nm == \"annworks\"):\n",
    "    print(\"TRUE\")\n",
    "else:\n",
    "    print(\"FALSE\")"
   ]
  },
  {
   "cell_type": "code",
   "execution_count": 8,
   "metadata": {},
   "outputs": [
    {
     "name": "stdout",
     "output_type": "stream",
     "text": [
      "TRUE\n"
     ]
    }
   ],
   "source": [
    "## if loop with Number comarision and output is boolean\n",
    "\n",
    "if ( 5 < 6):   ## <=, >=, ==. !=, <, >\n",
    "    print(\"TRUE\")\n",
    "else:\n",
    "    print(\"FALSE\")"
   ]
  },
  {
   "cell_type": "code",
   "execution_count": 9,
   "metadata": {},
   "outputs": [
    {
     "name": "stdout",
     "output_type": "stream",
     "text": [
      "A & B are Equal\n"
     ]
    }
   ],
   "source": [
    "################# if loop number comparision\n",
    "  \n",
    "a = 3; b=3;\n",
    "if (a == b):  ## intend is very important\n",
    "    print(\"A & B are Equal\")\n",
    "else:\n",
    "    print(\"A & B are not Equal\")"
   ]
  },
  {
   "cell_type": "code",
   "execution_count": 10,
   "metadata": {},
   "outputs": [
    {
     "name": "stdout",
     "output_type": "stream",
     "text": [
      " Number is Even number\n"
     ]
    }
   ],
   "source": [
    "## check if the given number is even or odd\n",
    "i = 10\n",
    "if (i % 2 == 0):\n",
    "    print(\" Number is Even number\")\n",
    "else:\n",
    "    print(\"Number is Odd number\")"
   ]
  },
  {
   "cell_type": "code",
   "execution_count": 1,
   "metadata": {},
   "outputs": [
    {
     "name": "stdout",
     "output_type": "stream",
     "text": [
      "B is the greatest!!\n"
     ]
    }
   ],
   "source": [
    "#### if else statement \n",
    "## compare 3 varaibles\n",
    "## find which is the greatest number\n",
    "    \n",
    "a = 15; b = 201; c = 60\n",
    "if  (a > b) & (a>c) :\n",
    "    print(\"A is the greatest!!!\")\n",
    "elif  (b > a) & (b > c) :\n",
    "    print(\"B is the greatest!!\")\n",
    "else:\n",
    "    print(\"C is the greatest\")"
   ]
  },
  {
   "cell_type": "code",
   "execution_count": 12,
   "metadata": {},
   "outputs": [
    {
     "name": "stdout",
     "output_type": "stream",
     "text": [
      "Golden Customer\n"
     ]
    }
   ],
   "source": [
    "\"\"\"Customer segmentation\n",
    "If cust_credit >25000 then Diamond ustomer\n",
    ">15k and < 25k, golden\n",
    ">5k and < 15k silver else bronze\n",
    "\"\"\"\n",
    "\n",
    "cust_credit = 17000\n",
    "if(cust_credit >= 25000):\n",
    "    print(\"Diamond Customer\")\n",
    "elif(cust_credit >= 15000 and cust_credit < 25000):\n",
    "    print(\"Golden Customer\")\n",
    "elif(cust_credit >=5000 and cust_credit < 15000):\n",
    "    print(\"Silver Customer\")\n",
    "else:\n",
    "        print(\"Brozen Customer\")"
   ]
  },
  {
   "cell_type": "markdown",
   "metadata": {},
   "source": [
    "# For Loop"
   ]
  },
  {
   "cell_type": "code",
   "execution_count": 2,
   "metadata": {},
   "outputs": [
    {
     "name": "stdout",
     "output_type": "stream",
     "text": [
      "[1, 2, 3, 4, 5]\n",
      "1\n",
      "2\n",
      "3\n",
      "4\n",
      "5\n"
     ]
    }
   ],
   "source": [
    "## simple for loop\n",
    "a = [1,2,3,4,5]\n",
    "print(a)\n",
    "#i = 1\n",
    "for j in a:\n",
    "    print(j)"
   ]
  },
  {
   "cell_type": "code",
   "execution_count": 5,
   "metadata": {},
   "outputs": [
    {
     "name": "stdout",
     "output_type": "stream",
     "text": [
      "4\n",
      "5\n",
      "6\n",
      "7\n",
      "8\n",
      "9\n"
     ]
    }
   ],
   "source": [
    " # print value 1 to 9  \n",
    "for i in range(4,10):\n",
    "    print(i)"
   ]
  },
  {
   "cell_type": "code",
   "execution_count": 8,
   "metadata": {},
   "outputs": [
    {
     "name": "stdout",
     "output_type": "stream",
     "text": [
      "0\n",
      "2\n",
      "4\n",
      "6\n",
      "8\n",
      "10\n"
     ]
    }
   ],
   "source": [
    "# print only even values\n",
    "for i in range(0,11,2):\n",
    "    print(i)"
   ]
  },
  {
   "cell_type": "code",
   "execution_count": 16,
   "metadata": {},
   "outputs": [
    {
     "name": "stdout",
     "output_type": "stream",
     "text": [
      "1\n",
      "3\n",
      "5\n",
      "7\n",
      "9\n"
     ]
    }
   ],
   "source": [
    "# print only odd values\n",
    "for i in range(1,11,2):\n",
    "    print(i)"
   ]
  },
  {
   "cell_type": "code",
   "execution_count": 17,
   "metadata": {},
   "outputs": [
    {
     "name": "stdout",
     "output_type": "stream",
     "text": [
      "0\n",
      "5\n",
      "10\n",
      "15\n",
      "20\n",
      "25\n",
      "30\n",
      "35\n",
      "40\n",
      "45\n",
      "50\n"
     ]
    }
   ],
   "source": [
    "# print numbers with regular interval of 5\n",
    "for i in range(0,51,5):\n",
    "    print(i)"
   ]
  },
  {
   "cell_type": "code",
   "execution_count": 18,
   "metadata": {},
   "outputs": [
    {
     "name": "stdout",
     "output_type": "stream",
     "text": [
      "0\n",
      "1\n",
      "2\n",
      "1\n",
      "2\n",
      "3\n",
      "2\n",
      "3\n",
      "4\n"
     ]
    }
   ],
   "source": [
    "# Nested for loop\n",
    "for i in range(0,3):\n",
    "    for j in range(0,3):\n",
    "        print(i+j)"
   ]
  },
  {
   "cell_type": "code",
   "execution_count": 23,
   "metadata": {},
   "outputs": [
    {
     "name": "stdout",
     "output_type": "stream",
     "text": [
      "<class 'list'>\n",
      "aw\n",
      "annworks\n",
      "aws\n",
      "annworks private limited\n",
      "annwork ltd\n"
     ]
    }
   ],
   "source": [
    "## for loop in list that returns the title\n",
    "names = ['aw','annworks','aws','annworks private limited','annwork ltd']\n",
    "print(type(names))\n",
    "for name in names:\n",
    "    print(name) \n",
    "    #print(name.title()) # first letter comes as caps"
   ]
  },
  {
   "cell_type": "code",
   "execution_count": 33,
   "metadata": {},
   "outputs": [
    {
     "name": "stdout",
     "output_type": "stream",
     "text": [
      "<class 'list'>\n",
      "aws\n",
      "annworks private limited\n"
     ]
    }
   ],
   "source": [
    "## for loop in list that returns the title\n",
    "names = ['aw','annworks','aws','annworks private limited','annwork ltd']\n",
    "print(type(names))\n",
    "#for name in names[names.index(\"aws\"):]:\n",
    "for name in names[2:4]:\n",
    "    print(name) \n",
    "    #print(name.title()) # first letter comes as caps"
   ]
  },
  {
   "cell_type": "code",
   "execution_count": 19,
   "metadata": {},
   "outputs": [
    {
     "name": "stdout",
     "output_type": "stream",
     "text": [
      "<class 'list'>\n",
      "aws\n",
      "annworks private limited\n",
      "annwork ltd\n"
     ]
    }
   ],
   "source": [
    "## for loop in list that returns the title\n",
    "names = ['aw','annworks','aws','annworks private limited','annwork ltd']\n",
    "print(type(names))\n",
    "for name in names[names.index(\"aws\"):]:\n",
    "#for name in names[2:4]:\n",
    "    print(name) "
   ]
  },
  {
   "cell_type": "code",
   "execution_count": 20,
   "metadata": {},
   "outputs": [
    {
     "name": "stdout",
     "output_type": "stream",
     "text": [
      "<class 'range'>\n",
      "value of i: 0\n",
      "value of i1: 1\n",
      "value of i: 1\n",
      "value of i1: 2\n",
      "value of i: 2\n",
      "value of i1: 3\n",
      "value of i: 3\n",
      "value of i1: 4\n",
      "value of i: 4\n",
      "value of i1: 5\n"
     ]
    }
   ],
   "source": [
    "## sum the given list\n",
    "# range is seq from from 0 to 4\n",
    "ran = range(5)\n",
    "print(type(ran))\n",
    "## simple for loop to print seq of element\n",
    "for i in ran:\n",
    "    print(\"value of i: {}\".format(i))\n",
    "    print(\"value of i1: {}\".format(i+1))"
   ]
  },
  {
   "cell_type": "code",
   "execution_count": 21,
   "metadata": {},
   "outputs": [],
   "source": [
    "## for loop - dictonary\n",
    "\n",
    "Beatles_Discography = {\"Please Please Me\": 1963, \"With the Beatles\": 1963, \n",
    "    \"A Hard Day's Night\": 1964, \"Beatles for Sale\": 1964, \"Twist and Shout\": 1964,\n",
    "    \"Help\": 1965, \"Rubber Soul\": 1965, \"Revolver\": 1966,\n",
    "    \"Sgt. Pepper's Lonely Hearts Club Band\": 1967,\n",
    "    \"Magical Mystery Tour\": 1967, \"The Beatles\": 1968,\n",
    "    \"Yellow Submarine\": 1969 ,'Abbey Road': 1969,\n",
    "    \"Let It Be\": 1970}"
   ]
  },
  {
   "cell_type": "code",
   "execution_count": 22,
   "metadata": {},
   "outputs": [
    {
     "data": {
      "text/plain": [
       "1963"
      ]
     },
     "execution_count": 22,
     "metadata": {},
     "output_type": "execute_result"
    }
   ],
   "source": [
    "Beatles_Discography[ \"With the Beatles\"]"
   ]
  },
  {
   "cell_type": "code",
   "execution_count": 23,
   "metadata": {},
   "outputs": [
    {
     "ename": "NameError",
     "evalue": "name 'title' is not defined",
     "output_type": "error",
     "traceback": [
      "\u001b[0;31m---------------------------------------------------------------------------\u001b[0m",
      "\u001b[0;31mNameError\u001b[0m                                 Traceback (most recent call last)",
      "\u001b[0;32m<ipython-input-23-4f5fe52d908b>\u001b[0m in \u001b[0;36m<module>\u001b[0;34m\u001b[0m\n\u001b[0;32m----> 1\u001b[0;31m \u001b[0mBeatles_Discography\u001b[0m\u001b[0;34m[\u001b[0m\u001b[0mtitle\u001b[0m\u001b[0;34m]\u001b[0m\u001b[0;34m\u001b[0m\u001b[0m\n\u001b[0m",
      "\u001b[0;31mNameError\u001b[0m: name 'title' is not defined"
     ]
    }
   ],
   "source": [
    "Beatles_Discography[title]"
   ]
  },
  {
   "cell_type": "code",
   "execution_count": 24,
   "metadata": {},
   "outputs": [
    {
     "ename": "NameError",
     "evalue": "name 'title' is not defined",
     "output_type": "error",
     "traceback": [
      "\u001b[0;31m---------------------------------------------------------------------------\u001b[0m",
      "\u001b[0;31mNameError\u001b[0m                                 Traceback (most recent call last)",
      "\u001b[0;32m<ipython-input-24-eee3914a8eb9>\u001b[0m in \u001b[0;36m<module>\u001b[0;34m\u001b[0m\n\u001b[0;32m----> 1\u001b[0;31m \u001b[0mtitle\u001b[0m\u001b[0;34m\u001b[0m\u001b[0m\n\u001b[0m",
      "\u001b[0;31mNameError\u001b[0m: name 'title' is not defined"
     ]
    }
   ],
   "source": [
    "title"
   ]
  },
  {
   "cell_type": "code",
   "execution_count": 25,
   "metadata": {},
   "outputs": [
    {
     "name": "stdout",
     "output_type": "stream",
     "text": [
      "title: Please Please Me, year: 1963\n",
      "title: With the Beatles, year: 1963\n",
      "title: A Hard Day's Night, year: 1964\n",
      "title: Beatles for Sale, year: 1964\n",
      "title: Twist and Shout, year: 1964\n",
      "title: Help, year: 1965\n",
      "title: Rubber Soul, year: 1965\n",
      "title: Revolver, year: 1966\n",
      "title: Sgt. Pepper's Lonely Hearts Club Band, year: 1967\n",
      "title: Magical Mystery Tour, year: 1967\n",
      "title: The Beatles, year: 1968\n",
      "title: Yellow Submarine, year: 1969\n",
      "title: Abbey Road, year: 1969\n",
      "title: Let It Be, year: 1970\n"
     ]
    }
   ],
   "source": [
    "for title in Beatles_Discography:\n",
    "    print(\"title: {}, year: {}\".format(title, Beatles_Discography[title]))"
   ]
  },
  {
   "cell_type": "markdown",
   "metadata": {},
   "source": [
    "# While Loop"
   ]
  },
  {
   "cell_type": "code",
   "execution_count": 26,
   "metadata": {},
   "outputs": [
    {
     "name": "stdout",
     "output_type": "stream",
     "text": [
      "0\n",
      "1\n",
      "2\n",
      "3\n",
      "4\n"
     ]
    }
   ],
   "source": [
    "## Simple While Loop\n",
    "## while loop gets executed untill the condition is satisfied\n",
    "\n",
    "k = 0\n",
    "while  k < 5 :\n",
    "    print(k)\n",
    "    k = k+1"
   ]
  },
  {
   "cell_type": "code",
   "execution_count": 34,
   "metadata": {},
   "outputs": [
    {
     "name": "stdout",
     "output_type": "stream",
     "text": [
      "0\n",
      "1\n",
      "2\n",
      "3\n"
     ]
    }
   ],
   "source": [
    "# while loop with break\n",
    "# first check is c is less than 5\n",
    "# if the value of c reached 3, loop should break    \n",
    "c = 0\n",
    "while c < 5:\n",
    "    print(c)\n",
    "    if c ==3:\n",
    "        break\n",
    "    c = c + 1"
   ]
  },
  {
   "cell_type": "code",
   "execution_count": null,
   "metadata": {},
   "outputs": [],
   "source": [
    "# while loop with continue statement\n",
    "# first check, if the value of c is less than 5\n",
    "# second check if c == 3     \n",
    "c = 0\n",
    "    \n",
    "while c < 5:\n",
    "    if c == 3:\n",
    "        continue\n",
    "    print(c)\n",
    "    c = c+1\n",
    "    "
   ]
  },
  {
   "cell_type": "code",
   "execution_count": 3,
   "metadata": {},
   "outputs": [
    {
     "name": "stdout",
     "output_type": "stream",
     "text": [
      "0\n",
      "1\n",
      "2\n",
      "4\n",
      "5\n"
     ]
    }
   ],
   "source": [
    "c = -1 \n",
    "while c < 5:\n",
    "     c = c + 1\n",
    "     if c == 3:\n",
    "        continue\n",
    "     print(c)"
   ]
  },
  {
   "cell_type": "code",
   "execution_count": 5,
   "metadata": {},
   "outputs": [
    {
     "name": "stdout",
     "output_type": "stream",
     "text": [
      "0\n",
      "1\n",
      "2\n",
      "4\n"
     ]
    }
   ],
   "source": [
    "c = 0 \n",
    "while c < 5:\n",
    "     #c = c + 1\n",
    "     if c == 3:\n",
    "        c = c + 1\n",
    "        continue\n",
    "        \n",
    "     print(c)\n",
    "     c = c + 1\n",
    "    "
   ]
  },
  {
   "cell_type": "code",
   "execution_count": 6,
   "metadata": {},
   "outputs": [
    {
     "name": "stdout",
     "output_type": "stream",
     "text": [
      "0\n",
      "1\n",
      "2\n",
      "4\n"
     ]
    }
   ],
   "source": [
    "c = 0 \n",
    "while c < 5:\n",
    "     #c = c + 1\n",
    "     if c != 3:\n",
    "        print(c)\n",
    "     \n",
    "     c = c + 1"
   ]
  },
  {
   "cell_type": "code",
   "execution_count": 1,
   "metadata": {},
   "outputs": [
    {
     "name": "stdout",
     "output_type": "stream",
     "text": [
      "1\n",
      "2\n",
      "3\n",
      "4\n",
      "5\n"
     ]
    }
   ],
   "source": [
    "c = 0 \n",
    "while c < 5:\n",
    "     c = c + 1\n",
    "     if c == 3:\n",
    "        pass\n",
    "     print(c)"
   ]
  },
  {
   "cell_type": "markdown",
   "metadata": {},
   "source": [
    "# Try catch - error handling"
   ]
  },
  {
   "cell_type": "code",
   "execution_count": 11,
   "metadata": {},
   "outputs": [
    {
     "name": "stdout",
     "output_type": "stream",
     "text": [
      "plz check the code\n"
     ]
    }
   ],
   "source": [
    "## except part will executed as n is not defined\n",
    "\n",
    "## example 1\n",
    "try:\n",
    "    if n > 5 :\n",
    "        print(nm)\n",
    "except:\n",
    "    print('plz check the code')"
   ]
  },
  {
   "cell_type": "code",
   "execution_count": 29,
   "metadata": {},
   "outputs": [
    {
     "name": "stdout",
     "output_type": "stream",
     "text": [
      "An exception occurred\n"
     ]
    }
   ],
   "source": [
    "## example 2   \n",
    "    \n",
    "try:\n",
    "  print(x)\n",
    "except:\n",
    "  print(\"An exception occurred\")"
   ]
  },
  {
   "cell_type": "code",
   "execution_count": 32,
   "metadata": {},
   "outputs": [
    {
     "name": "stdout",
     "output_type": "stream",
     "text": [
      "Variable x is not defined\n"
     ]
    }
   ],
   "source": [
    "## example 3 \n",
    "try:\n",
    "  print(x)\n",
    "except NameError:\n",
    "  print(\"Variable x is not defined\")\n",
    "except:\n",
    "  print(\"Something else went wrong\")"
   ]
  },
  {
   "cell_type": "code",
   "execution_count": 18,
   "metadata": {},
   "outputs": [
    {
     "name": "stdout",
     "output_type": "stream",
     "text": [
      "Hello\n",
      "Nothing went wrong\n"
     ]
    }
   ],
   "source": [
    "## example 4 \n",
    "try:\n",
    "  print(\"Hello\")\n",
    "except:\n",
    "  print(\"Something went wrong\")\n",
    "else:\n",
    "  print(\"Nothing went wrong\")"
   ]
  },
  {
   "cell_type": "code",
   "execution_count": 14,
   "metadata": {},
   "outputs": [
    {
     "name": "stdout",
     "output_type": "stream",
     "text": [
      "Something went wrong\n",
      "The 'try except' is finished\n"
     ]
    }
   ],
   "source": [
    "## example 5\n",
    "## try and finally\n",
    "try:\n",
    "  print(x)\n",
    "except:\n",
    "  print(\"Something went wrong\")\n",
    "finally:\n",
    "  print(\"The 'try except' is finished\")"
   ]
  },
  {
   "cell_type": "markdown",
   "metadata": {},
   "source": [
    "# Inbuilt functions"
   ]
  },
  {
   "cell_type": "code",
   "execution_count": 35,
   "metadata": {},
   "outputs": [
    {
     "name": "stdout",
     "output_type": "stream",
     "text": [
      "True\n",
      "Annworks\n"
     ]
    },
    {
     "data": {
      "text/plain": [
       "2"
      ]
     },
     "execution_count": 35,
     "metadata": {},
     "output_type": "execute_result"
    }
   ],
   "source": [
    "nm = \"annworks\"\n",
    "len(nm)\n",
    "\n",
    "print(nm.islower()) ## this will return if the values are lower case or not\n",
    "\n",
    "print(nm.title()) ## displayes the title of the varaible\n",
    "\n",
    "\"annwork, great place to learn python,annworks good training,annworks totally awesome.\".count('annworks')"
   ]
  },
  {
   "cell_type": "code",
   "execution_count": 37,
   "metadata": {},
   "outputs": [
    {
     "name": "stdout",
     "output_type": "stream",
     "text": [
      " annworks \n",
      " ANNWORKS \n",
      "annworks \n",
      " annworks\n",
      "annworks\n"
     ]
    }
   ],
   "source": [
    "nm = \" annworks \"\n",
    "print(str.lower(nm)) ## convert the string to lower\n",
    "print(str.upper(nm)) ## convert the case into upper\n",
    "print(str.lstrip(nm))## remove the whitespace before the word\n",
    "print(str.rstrip(nm))## remove the whitespace after the word\n",
    "print(str.strip(nm))## remove the whitespace both  the sides of the word"
   ]
  },
  {
   "cell_type": "code",
   "execution_count": 39,
   "metadata": {},
   "outputs": [
    {
     "name": "stdout",
     "output_type": "stream",
     "text": [
      "annworks\n"
     ]
    }
   ],
   "source": [
    "nm = \" ann works \"\n",
    "import re\n",
    "## this method removes the space from the first,last and middle\n",
    "print(re.sub('[\\s+]', '', nm))"
   ]
  },
  {
   "cell_type": "code",
   "execution_count": 10,
   "metadata": {},
   "outputs": [
    {
     "name": "stdout",
     "output_type": "stream",
     "text": [
      "123\n",
      "12\n"
     ]
    }
   ],
   "source": [
    "#absoslute\n",
    "print(abs(-123)) # removes the negative sign\n",
    "\n",
    "print(abs(12))"
   ]
  },
  {
   "cell_type": "code",
   "execution_count": 42,
   "metadata": {},
   "outputs": [
    {
     "name": "stdout",
     "output_type": "stream",
     "text": [
      "False\n",
      "True\n",
      "True\n"
     ]
    }
   ],
   "source": [
    "# check for boolean\n",
    "print(bool(0)) # output is false\n",
    "print(bool(1)) # other than zero is true\n",
    "print(bool(10))"
   ]
  },
  {
   "cell_type": "code",
   "execution_count": 43,
   "metadata": {},
   "outputs": [
    {
     "data": {
      "text/plain": [
       "['Beatles_Discography',\n",
       " 'In',\n",
       " 'Out',\n",
       " '_',\n",
       " '_22',\n",
       " '_35',\n",
       " '_36',\n",
       " '_40',\n",
       " '_41',\n",
       " '__',\n",
       " '___',\n",
       " '__builtin__',\n",
       " '__builtins__',\n",
       " '__doc__',\n",
       " '__loader__',\n",
       " '__name__',\n",
       " '__package__',\n",
       " '__spec__',\n",
       " '_dh',\n",
       " '_i',\n",
       " '_i1',\n",
       " '_i10',\n",
       " '_i11',\n",
       " '_i12',\n",
       " '_i13',\n",
       " '_i14',\n",
       " '_i15',\n",
       " '_i16',\n",
       " '_i17',\n",
       " '_i18',\n",
       " '_i19',\n",
       " '_i2',\n",
       " '_i20',\n",
       " '_i21',\n",
       " '_i22',\n",
       " '_i23',\n",
       " '_i24',\n",
       " '_i25',\n",
       " '_i26',\n",
       " '_i27',\n",
       " '_i28',\n",
       " '_i29',\n",
       " '_i3',\n",
       " '_i30',\n",
       " '_i31',\n",
       " '_i32',\n",
       " '_i33',\n",
       " '_i34',\n",
       " '_i35',\n",
       " '_i36',\n",
       " '_i37',\n",
       " '_i38',\n",
       " '_i39',\n",
       " '_i4',\n",
       " '_i40',\n",
       " '_i41',\n",
       " '_i42',\n",
       " '_i43',\n",
       " '_i5',\n",
       " '_i6',\n",
       " '_i7',\n",
       " '_i8',\n",
       " '_i9',\n",
       " '_ih',\n",
       " '_ii',\n",
       " '_iii',\n",
       " '_oh',\n",
       " 'a',\n",
       " 'b',\n",
       " 'c',\n",
       " 'cust_credit',\n",
       " 'exit',\n",
       " 'get_ipython',\n",
       " 'i',\n",
       " 'j',\n",
       " 'k',\n",
       " 'name',\n",
       " 'names',\n",
       " 'nm',\n",
       " 'quit',\n",
       " 'ran',\n",
       " 're',\n",
       " 'title']"
      ]
     },
     "execution_count": 43,
     "metadata": {},
     "output_type": "execute_result"
    }
   ],
   "source": [
    "dir() \n",
    "# dir() tries to return a valid list of attributes of the object it is called upon. \n",
    "#For Class Objects, it returns a list of names of all the valid attributes and base attributes as well.\n",
    "#For Modules/Library objects, it tries to return a list of names of all the attributes, contained in that module.\n",
    "#If no parameters are passed it returns a list of names in the current local scope."
   ]
  },
  {
   "cell_type": "code",
   "execution_count": null,
   "metadata": {},
   "outputs": [],
   "source": []
  }
 ],
 "metadata": {
  "kernelspec": {
   "display_name": "Python 3",
   "language": "python",
   "name": "python3"
  },
  "language_info": {
   "codemirror_mode": {
    "name": "ipython",
    "version": 3
   },
   "file_extension": ".py",
   "mimetype": "text/x-python",
   "name": "python",
   "nbconvert_exporter": "python",
   "pygments_lexer": "ipython3",
   "version": "3.7.1"
  }
 },
 "nbformat": 4,
 "nbformat_minor": 2
}
