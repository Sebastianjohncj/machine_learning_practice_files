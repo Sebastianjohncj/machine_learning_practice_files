{
 "cells": [
  {
   "cell_type": "code",
   "execution_count": 1,
   "metadata": {},
   "outputs": [
    {
     "ename": "NameError",
     "evalue": "name 's' is not defined",
     "output_type": "error",
     "traceback": [
      "\u001b[1;31m---------------------------------------------------------------------------\u001b[0m",
      "\u001b[1;31mNameError\u001b[0m                                 Traceback (most recent call last)",
      "\u001b[1;32m<ipython-input-1-83fb74bc4924>\u001b[0m in \u001b[0;36m<module>\u001b[1;34m()\u001b[0m\n\u001b[0;32m      6\u001b[0m \u001b[1;31m## call the function\u001b[0m\u001b[1;33m\u001b[0m\u001b[1;33m\u001b[0m\u001b[0m\n\u001b[0;32m      7\u001b[0m \u001b[0mf\u001b[0m\u001b[1;33m(\u001b[0m\u001b[1;33m)\u001b[0m\u001b[1;33m\u001b[0m\u001b[0m\n\u001b[1;32m----> 8\u001b[1;33m \u001b[0mprint\u001b[0m\u001b[1;33m(\u001b[0m\u001b[0ms\u001b[0m\u001b[1;33m)\u001b[0m\u001b[1;33m\u001b[0m\u001b[0m\n\u001b[0m",
      "\u001b[1;31mNameError\u001b[0m: name 's' is not defined"
     ]
    }
   ],
   "source": [
    "def f():  \n",
    "    # Local scope \n",
    "    s = \"aws\"\n",
    "    #print(s)\n",
    "  \n",
    "## call the function\n",
    "f()\n",
    "print(s)\n"
   ]
  },
  {
   "cell_type": "code",
   "execution_count": 14,
   "metadata": {},
   "outputs": [
    {
     "name": "stdout",
     "output_type": "stream",
     "text": [
      "aws1\n",
      "aws\n"
     ]
    }
   ],
   "source": [
    "s = \"aws\" ## Global variable\n",
    "\n",
    "def f():  \n",
    "    s = \"aws1\"\n",
    "    print(s)\n",
    "    #print(\"test function\")\n",
    "  \n",
    "# Global scope \n",
    "f() \n",
    "print(s)"
   ]
  },
  {
   "cell_type": "code",
   "execution_count": 2,
   "metadata": {},
   "outputs": [
    {
     "name": "stdout",
     "output_type": "stream",
     "text": [
      "ann\n",
      "aws\n"
     ]
    }
   ],
   "source": [
    "def f():  \n",
    "    s = \"ann\"\n",
    "    print(s )\n",
    "  \n",
    "# Global scope \n",
    "s = \"aws\" \n",
    "f() \n",
    "print(s)"
   ]
  },
  {
   "cell_type": "code",
   "execution_count": 3,
   "metadata": {},
   "outputs": [
    {
     "name": "stdout",
     "output_type": "stream",
     "text": [
      "Python is great!\n",
      "juzz awesome\n",
      "juzz awesome\n"
     ]
    }
   ],
   "source": [
    "def f(): \n",
    "    global s \n",
    "    print(s)\n",
    "    s = \"juzz awesome\"\n",
    "    print(s)  \n",
    "  \n",
    "# Global Scope \n",
    "s = \"Python is great!\" \n",
    "f() \n",
    "print(s)"
   ]
  },
  {
   "cell_type": "code",
   "execution_count": 15,
   "metadata": {},
   "outputs": [
    {
     "name": "stdout",
     "output_type": "stream",
     "text": [
      "global :  1\n",
      "Inside f() :  1\n",
      "global :  1\n",
      "Inside g() :  2\n",
      "global :  1\n",
      "Inside h() :  3\n",
      "global :  3\n",
      "value: 3\n"
     ]
    }
   ],
   "source": [
    "\n",
    "a = 1\n",
    "  \n",
    "# Uses global because there is no local 'a' \n",
    "\n",
    "def f(): \n",
    "    print( 'Inside f() : ', a )\n",
    "  \n",
    "# Variable 'a' is redefined as a local \n",
    "def g():     \n",
    "    a = 2 # modified the value of a\n",
    "    print('Inside g() : ',a )\n",
    "  \n",
    "# Uses global keyword to modify global 'a' \n",
    "def h():     \n",
    "    global a \n",
    "    a = 3\n",
    "    print('Inside h() : ',a )\n",
    "  \n",
    "# Global scope \n",
    "print('global : ',a )\n",
    "f() \n",
    "print('global : ',a )\n",
    "g() \n",
    "print('global : ',a )\n",
    "h() \n",
    "print('global : ',a )\n",
    "\n",
    "print(\"value:\",a)"
   ]
  },
  {
   "cell_type": "code",
   "execution_count": 20,
   "metadata": {},
   "outputs": [
    {
     "name": "stdout",
     "output_type": "stream",
     "text": [
      "value of global G: 10\n",
      "value of G inside the func: 10\n",
      "value of F inside the func: 11\n"
     ]
    }
   ],
   "source": [
    "G = 10\n",
    "print(\"value of global G:\",G)\n",
    "\n",
    "def abc():\n",
    "    print(\"value of G inside the func:\",G)\n",
    "    F = G + 1\n",
    "    print(\"value of F inside the func:\", F)\n",
    "    \n",
    "    \n",
    "\n",
    "## call the function\n",
    "abc()"
   ]
  }
 ],
 "metadata": {
  "kernelspec": {
   "display_name": "Python 3",
   "language": "python",
   "name": "python3"
  },
  "language_info": {
   "codemirror_mode": {
    "name": "ipython",
    "version": 3
   },
   "file_extension": ".py",
   "mimetype": "text/x-python",
   "name": "python",
   "nbconvert_exporter": "python",
   "pygments_lexer": "ipython3",
   "version": "3.6.5"
  }
 },
 "nbformat": 4,
 "nbformat_minor": 2
}
