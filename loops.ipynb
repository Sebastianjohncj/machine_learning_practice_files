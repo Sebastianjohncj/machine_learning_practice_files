{
 "cells": [
  {
   "cell_type": "markdown",
   "metadata": {},
   "source": [
    "# If Loop - check if the  condition is satisfied and display the result as per the same\n"
   ]
  },
  {
   "cell_type": "code",
   "execution_count": 4,
   "metadata": {},
   "outputs": [],
   "source": [
    "## if loop with out else part , in which condition is not satisfied and else part is not handled\n",
    "a = 3\n",
    "b = 5\n",
    "if (a > b):\n",
    "    print(\"a is greater than b\")\n",
    "    \n",
    "# Inference : since a is less than b and there is no else part\n",
    "# it will not throw any error, also there will not be any message which will be displayed"
   ]
  },
  {
   "cell_type": "code",
   "execution_count": 7,
   "metadata": {},
   "outputs": [
    {
     "name": "stdout",
     "output_type": "stream",
     "text": [
      "b is greater than a\n"
     ]
    }
   ],
   "source": [
    "## if loop with out else part, in which condition is not satisfied and else part is  handled\n",
    "a = 3\n",
    "b = 5\n",
    "if (a > b):\n",
    "    print(\"a is greater than b\")\n",
    "else:\n",
    "    print(\"b is greater than a\")"
   ]
  },
  {
   "cell_type": "code",
   "execution_count": 8,
   "metadata": {},
   "outputs": [
    {
     "ename": "SyntaxError",
     "evalue": "invalid syntax (<ipython-input-8-aeed0c6e69a3>, line 6)",
     "output_type": "error",
     "traceback": [
      "\u001b[1;36m  File \u001b[1;32m\"<ipython-input-8-aeed0c6e69a3>\"\u001b[1;36m, line \u001b[1;32m6\u001b[0m\n\u001b[1;33m    else:\u001b[0m\n\u001b[1;37m       ^\u001b[0m\n\u001b[1;31mSyntaxError\u001b[0m\u001b[1;31m:\u001b[0m invalid syntax\n"
     ]
    }
   ],
   "source": [
    "## if loop with wrong intend will throw an error\n",
    "a = 3\n",
    "b = 5\n",
    "if (a > b):\n",
    "    print(\"a is greater than b\")\n",
    "    else:\n",
    "    print(\"b is greater than a\")"
   ]
  },
  {
   "cell_type": "code",
   "execution_count": 1,
   "metadata": {},
   "outputs": [
    {
     "name": "stdout",
     "output_type": "stream",
     "text": [
      " Number is Even number\n"
     ]
    }
   ],
   "source": [
    "## check if the value is even or odd.\n",
    "## here we have only 2 conditions to be verified\n",
    "## so we use if else\n",
    "i = 10\n",
    "if (i % 2 == 0):\n",
    "    print(\" Number is Even number\")\n",
    "else:\n",
    "    print(\"Number is Odd number\")"
   ]
  },
  {
   "cell_type": "code",
   "execution_count": null,
   "metadata": {},
   "outputs": [],
   "source": [
    "## If loop, to check more than one condition\n",
    "## compare 3 varaibles\n",
    "## find which is the greatest number\n",
    "    \n",
    "a = 15; b = 21; c = 60\n",
    "if  (a > b) & (a>c) :\n",
    "    print(\"A is the greatest!!!\")\n",
    "elif  (b > a) & (b > c) :\n",
    "    print(\"B is the greatest!!\")\n",
    "else:\n",
    "    print(\"C is the greatest\")"
   ]
  },
  {
   "cell_type": "markdown",
   "metadata": {},
   "source": [
    "# For Loop - Help to run through a loop for the given operation"
   ]
  },
  {
   "cell_type": "code",
   "execution_count": 17,
   "metadata": {},
   "outputs": [
    {
     "name": "stdout",
     "output_type": "stream",
     "text": [
      "Hello World\n",
      "Hello World\n",
      "Hello World\n"
     ]
    }
   ],
   "source": [
    "### Simple for loop\n",
    "for i in range(3):\n",
    "    print(\"Hello World\")"
   ]
  },
  {
   "cell_type": "code",
   "execution_count": 19,
   "metadata": {},
   "outputs": [
    {
     "name": "stdout",
     "output_type": "stream",
     "text": [
      "value of i : 3\n",
      "value of i : 4\n",
      "value of i : 5\n",
      "value of i : 6\n",
      "value of i : 7\n"
     ]
    }
   ],
   "source": [
    "## For loop where the range can be specified range(min_value,max_value)\n",
    "for i in range(3,8):\n",
    "    print(\"value of i :\",i)"
   ]
  },
  {
   "cell_type": "markdown",
   "metadata": {},
   "source": [
    "# For and IF loop combination"
   ]
  },
  {
   "cell_type": "code",
   "execution_count": 21,
   "metadata": {},
   "outputs": [
    {
     "name": "stdout",
     "output_type": "stream",
     "text": [
      "3 Odd number\n",
      "4 Even number\n",
      "5 Odd number\n",
      "6 Even number\n",
      "7 Odd number\n"
     ]
    }
   ],
   "source": [
    "for i in range(3,8):\n",
    "    if(i%2 == 0):\n",
    "        print(i,\"Even number\")\n",
    "    else:\n",
    "        print(i,\"Odd number\")"
   ]
  },
  {
   "cell_type": "code",
   "execution_count": 33,
   "metadata": {},
   "outputs": [
    {
     "name": "stdout",
     "output_type": "stream",
     "text": [
      "value of x : 1\n",
      "I have exited the loop\n",
      "value of x : 2\n",
      "I have exited the loop\n",
      "value of x : 3\n",
      "I have exited the loop\n",
      "value of x : 4\n"
     ]
    }
   ],
   "source": [
    "# if and break statement\n",
    "\n",
    "for x in range(1,10): \n",
    "    print(\"value of x :\", x)\n",
    "    if(x == 4):\n",
    "          break #Break statement will exit the loop block \n",
    "\n",
    "    print(\"I have exited the loop\")\n",
    "\n",
    "\n"
   ]
  },
  {
   "cell_type": "code",
   "execution_count": 37,
   "metadata": {},
   "outputs": [
    {
     "name": "stdout",
     "output_type": "stream",
     "text": [
      "value of x : 1\n",
      "value of x : 2\n",
      "value of x : 3\n",
      "value of x : 4\n",
      "There is match found\n",
      "value of x : 5\n",
      "value of x : 6\n",
      "value of x : 7\n",
      "value of x : 8\n",
      "value of x : 9\n"
     ]
    }
   ],
   "source": [
    "# if and continue statement\n",
    "\n",
    "for x in range(1,10): \n",
    "    print(\"value of x :\", x)\n",
    "    if(x == 4):\n",
    "        print(\"There is match found\")\n",
    "        continue #continue statement checks for the condition and continues the loop\n",
    "\n",
    "    \n"
   ]
  },
  {
   "cell_type": "code",
   "execution_count": 40,
   "metadata": {},
   "outputs": [
    {
     "name": "stdout",
     "output_type": "stream",
     "text": [
      "hello world\n",
      "hello world\n",
      "hello world\n",
      "hello world\n",
      "hello world\n"
     ]
    }
   ],
   "source": [
    "# while loop\n",
    "# While loop will excuted untill the condition is exhausted\n",
    "# xample - to read all the files in a folder, while loop is the best option\n",
    "## print annworks n time, where n = 5\n",
    "\n",
    "count = 1\n",
    "while(count <=5) :\n",
    " print(\"hello world\")\n",
    " count = count + 1 "
   ]
  },
  {
   "cell_type": "code",
   "execution_count": 42,
   "metadata": {},
   "outputs": [
    {
     "name": "stdout",
     "output_type": "stream",
     "text": [
      "hello world\n",
      "hello world\n",
      "hello world\n",
      "hello world\n",
      "hello world\n"
     ]
    }
   ],
   "source": [
    "## display annworks 5 times, without changing the values of while condition\n",
    "count = 1\n",
    "while(count <=10) :\n",
    "    print(\"hello world\")\n",
    "    if(count==5): \n",
    "     break\n",
    "    count = count + 1 "
   ]
  },
  {
   "cell_type": "code",
   "execution_count": 161,
   "metadata": {},
   "outputs": [
    {
     "name": "stdout",
     "output_type": "stream",
     "text": [
      "The sum of 50 natural number is 1275\n"
     ]
    }
   ],
   "source": [
    "## check the sum of first 50 natural numbers\n",
    "## simple its for 50, n here is 50\n",
    "n = 50\n",
    "\n",
    "##If loops allow only if the number is a positive number\n",
    "if n < 0:\n",
    "   print(\"enter a +ve number\")\n",
    "else:\n",
    "   sum = 0\n",
    "   # use while loop to iterate un till zero\n",
    "   while(n > 0):\n",
    "       sum += n   # initial value of n is 50 and it keeps adding\n",
    "       #print(sum)\n",
    "       n -= 1     # n value is decrease by 1 for every run\n",
    "print(\"The sum of 50 natural number is\",sum)\n"
   ]
  },
  {
   "cell_type": "markdown",
   "metadata": {},
   "source": [
    "# Combination of For, If, and While"
   ]
  },
  {
   "cell_type": "code",
   "execution_count": 43,
   "metadata": {},
   "outputs": [
    {
     "name": "stdout",
     "output_type": "stream",
     "text": [
      "560\n",
      "567\n",
      "574\n",
      "581\n",
      "588\n",
      "595\n",
      "602\n",
      "609\n",
      "616\n",
      "623\n",
      "630\n",
      "637\n",
      "644\n",
      "651\n",
      "658\n",
      "665\n",
      "672\n",
      "679\n",
      "686\n",
      "693\n",
      "700\n",
      "707\n",
      "714\n",
      "721\n",
      "728\n",
      "735\n",
      "742\n",
      "749\n",
      "756\n",
      "763\n",
      "770\n",
      "777\n",
      "784\n",
      "791\n",
      "798\n",
      "805\n",
      "812\n",
      "819\n",
      "826\n",
      "833\n",
      "840\n",
      "847\n",
      "854\n",
      "861\n",
      "868\n",
      "875\n",
      "882\n",
      "889\n",
      "896\n",
      "903\n",
      "910\n",
      "917\n",
      "924\n",
      "931\n",
      "938\n",
      "945\n",
      "952\n",
      "959\n",
      "966\n",
      "973\n",
      "980\n",
      "987\n",
      "994\n",
      "1001\n",
      "1008\n",
      "1015\n",
      "1022\n",
      "1029\n",
      "1036\n",
      "1043\n",
      "1050\n",
      "1057\n",
      "1064\n",
      "1071\n",
      "1078\n",
      "1085\n",
      "1092\n",
      "1099\n",
      "1106\n",
      "sum of value within the range and divisible by 7 : 65807\n"
     ]
    }
   ],
   "source": [
    "\n",
    "sum = 0  # initialize a vaiable\n",
    "\n",
    "for x in range(555, 1111): ## given range, min value is 555 and max value is 1111\n",
    "    if (x%7==0): ## check if the value is divisble by 7\n",
    "        \n",
    "        sum = sum + x\n",
    "        print(x) # prints all the elements which is divisible by 7, within the specified range\n",
    "\n",
    "# sum up all the values which is divisible by 7 \n",
    "print(\"sum of value within the range and divisible by 7 :\",sum)         \n",
    "\n",
    "\n",
    "\n"
   ]
  },
  {
   "cell_type": "code",
   "execution_count": 1,
   "metadata": {},
   "outputs": [
    {
     "name": "stdout",
     "output_type": "stream",
     "text": [
      "[560, 567, 574, 581, 588, 595, 602, 609, 616, 623, 630, 637, 644, 651, 658, 665, 672, 679, 686, 693, 700, 707, 714, 721, 728, 735, 742, 749, 756, 763, 770, 777, 784, 791, 798, 805, 812, 819, 826, 833, 840, 847, 854, 861, 868, 875, 882, 889, 896, 903, 910, 917, 924, 931, 938, 945, 952, 959, 966, 973, 980, 987, 994, 1001, 1008, 1015, 1022, 1029, 1036, 1043, 1050, 1057, 1064, 1071, 1078, 1085, 1092, 1099, 1106]\n",
      "79\n"
     ]
    }
   ],
   "source": [
    "##  count the number of numbers between 555 and 1111 which are divisible by 7 \n",
    "lst=[] ## create an empty list\n",
    "for x in range(555, 1111): ## given range, min value is 555 and max value is 1111\n",
    "    if (x%7==0): ## check if the value is divisble by 7\n",
    "        lst.append(x) ## values are added every time to the list\n",
    "       # print(x)\n",
    "print(lst)\n",
    "print(len(lst))"
   ]
  },
  {
   "cell_type": "code",
   "execution_count": null,
   "metadata": {},
   "outputs": [],
   "source": [
    "# Functions in Python"
   ]
  },
  {
   "cell_type": "code",
   "execution_count": 47,
   "metadata": {},
   "outputs": [],
   "source": [
    "## find the sum of square of first 10  natural numbers\n",
    "##formula   n * (n + 1) * (2*n + 1) / 6\n",
    "def sum_sq(n): \n",
    "    return (n * (n + 1) *  (2 * n + 1)) / 6"
   ]
  },
  {
   "cell_type": "code",
   "execution_count": 52,
   "metadata": {},
   "outputs": [
    {
     "data": {
      "text/plain": [
       "14.0"
      ]
     },
     "execution_count": 52,
     "metadata": {},
     "output_type": "execute_result"
    }
   ],
   "source": [
    "### call the function\n",
    "sum_sq(3) # 1 + 4 + 9"
   ]
  },
  {
   "cell_type": "code",
   "execution_count": 134,
   "metadata": {},
   "outputs": [
    {
     "name": "stdout",
     "output_type": "stream",
     "text": [
      "[111556, 112896, 114244, 115600, 116964, 118336, 119716, 121104, 122500, 123904, 125316, 126736, 128164, 129600, 131044, 132496, 133956, 135424, 136900, 138384, 139876, 141376, 142884, 144400, 145924, 147456, 148996, 150544, 152100, 153664, 155236, 156816, 158404, 160000, 161604, 163216, 164836, 166464, 168100, 169744, 171396, 173056, 174724, 176400, 178084, 179776, 181476, 183184, 184900, 186624, 188356, 190096, 191844, 193600, 195364, 197136, 198916, 200704, 202500, 204304, 206116, 207936, 209764, 211600, 213444, 215296, 217156, 219024, 220900, 222784, 224676, 226576, 228484, 230400, 232324, 234256, 236196, 238144, 240100, 242064, 244036, 246016, 248004, 250000, 252004, 254016, 256036, 258064, 260100, 262144, 264196, 266256, 268324, 270400, 272484, 274576, 276676, 278784, 280900, 283024, 285156, 287296, 289444, 291600, 293764, 295936, 298116, 300304, 302500, 304704, 306916, 309136, 311364, 313600, 315844, 318096, 320356, 322624, 324900, 327184, 329476, 331776, 334084, 336400, 338724, 341056, 343396, 345744, 348100, 350464, 352836, 355216, 357604, 360000, 362404, 364816, 367236, 369664, 372100, 374544, 376996, 379456, 381924, 384400, 386884, 389376, 391876, 394384, 396900, 399424, 401956, 404496, 407044, 409600, 412164, 414736, 417316, 419904, 422500, 425104, 427716, 430336, 432964, 435600, 438244, 440896, 443556]\n"
     ]
    }
   ],
   "source": [
    "## get sum of squares of all the even numbers and odd number  between 334 and 667 in seperate list\n",
    "\n",
    "even_sq = [] ## create an empty list for even\n",
    "odd_sq = [] ## create an empty list for odd\n",
    "\n",
    "for i in range(334,667):\n",
    "     if (i%2==0): # if even\n",
    "        even_sq.append(i*i) # append values to even list\n",
    "     else:\n",
    "        odd_sq.append(i*i) # if odd, append values to odd list\n",
    "print(even_sq)\n",
    "#print(odd_sq)"
   ]
  }
 ],
 "metadata": {
  "kernelspec": {
   "display_name": "Python 3",
   "language": "python",
   "name": "python3"
  },
  "language_info": {
   "codemirror_mode": {
    "name": "ipython",
    "version": 3
   },
   "file_extension": ".py",
   "mimetype": "text/x-python",
   "name": "python",
   "nbconvert_exporter": "python",
   "pygments_lexer": "ipython3",
   "version": "3.7.1"
  }
 },
 "nbformat": 4,
 "nbformat_minor": 2
}
